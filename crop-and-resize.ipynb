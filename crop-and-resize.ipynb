{
 "cells": [
  {
   "cell_type": "code",
   "execution_count": 2,
   "outputs": [
    {
     "data": {
      "text/plain": "array([[10, 11, 12, 13, 14, 15, 16, 17, 18],\n       [19, 20, 21, 22, 23, 24, 25, 26, 27],\n       [ 1,  2,  3,  4,  5,  6,  7,  8,  9],\n       [ 1,  2,  3,  4,  5,  6,  7,  8,  9]])"
     },
     "execution_count": 2,
     "metadata": {},
     "output_type": "execute_result"
    }
   ],
   "source": [
    "import numpy as np\n",
    "\n",
    "images = np.array([\n",
    "    [\n",
    "        [1, 2, 3, 4, 5],\n",
    "        [6, 7, 8, 9, 10],\n",
    "        [11, 12, 13, 14, 15],\n",
    "        [16, 17, 18, 19, 20],\n",
    "        [21, 22, 23, 24, 25]\n",
    "    ],\n",
    "\n",
    "    [1, 2, 3, 4, 5, 6, 7, 8, 9],\n",
    "    [10, 11, 12, 13, 14, 15, 16, 17, 18],\n",
    "    [19, 20, 21, 22, 23, 24, 25, 26, 27],\n",
    "    [28, 29, 30, 31, 32, 33, 34, 35, 36],\n",
    "    [37, 38, 39, 40, 41, 42, 43, 44, 45]\n",
    "])\n",
    "\n",
    "box_ind = np.array([1, 2, 0, 0])\n",
    "boxes = np.array([\n",
    "    []\n",
    "])\n",
    "\n",
    "\n",
    "_, image_depth, image_height, image_width, _ = images.shape\n",
    "images_by_indices = images[box_ind]\n",
    "boxes_unnormalized = boxes[:, ] * [\n",
    "    image_depth - 1,\n",
    "    image_height - 1,\n",
    "    image_width - 1,\n",
    "    image_depth - 1,\n",
    "    image_height - 1,\n",
    "    image_width - 1\n",
    "]"
   ],
   "metadata": {
    "collapsed": false,
    "pycharm": {
     "name": "#%%\n"
    }
   }
  },
  {
   "cell_type": "code",
   "execution_count": null,
   "metadata": {
    "collapsed": true,
    "pycharm": {
     "name": "#%%\n"
    }
   },
   "outputs": [],
   "source": [
    "def crop_and_resize(\n",
    "    image,\n",
    "    boxes,\n",
    "    box_ind=None,\n",
    "    crop_size=None,\n",
    "    method='bilinear',\n",
    "    extrapolation_value=0,\n",
    "    name=None,\n",
    "    box_indices=None):\n",
    "\n",
    "    pass\n",
    "\n",
    "\n",
    "\n",
    "\n",
    "\n",
    "\n",
    "\n",
    "\n",
    "\n",
    "\n",
    "\n"
   ]
  }
 ],
 "metadata": {
  "kernelspec": {
   "display_name": "Python 3",
   "language": "python",
   "name": "python3"
  },
  "language_info": {
   "codemirror_mode": {
    "name": "ipython",
    "version": 2
   },
   "file_extension": ".py",
   "mimetype": "text/x-python",
   "name": "python",
   "nbconvert_exporter": "python",
   "pygments_lexer": "ipython2",
   "version": "2.7.6"
  }
 },
 "nbformat": 4,
 "nbformat_minor": 0
}