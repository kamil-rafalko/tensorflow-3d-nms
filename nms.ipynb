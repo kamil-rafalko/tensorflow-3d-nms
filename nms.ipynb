{
 "cells": [
  {
   "cell_type": "code",
   "execution_count": 1,
   "metadata": {
    "collapsed": true,
    "pycharm": {
     "name": "#%%\n"
    }
   },
   "outputs": [],
   "source": [
    "import tensorflow as tf\n",
    "\n",
    "tf.enable_eager_execution()\n",
    "\n",
    "# import numpy as np\n",
    "#\n",
    "# # z1, y1, x1, z2, y2, x2\n",
    "# a = np.array([0, 0, 1, 6, 7, 9])\n",
    "# b = np.array([2, 5, 3, 10, 10, 10])\n",
    "#\n",
    "# zA = max(a[0], b[0])\n",
    "# yA = max(a[1], b[1])\n",
    "# xA = max(a[2], b[2])\n",
    "# zB = max(a[3], b[3])\n",
    "# yB = max(a[4], b[4])\n",
    "# xB = max(a[5], b[5])\n",
    "#\n",
    "# interArea = max(0, xB - xA) * max(0, yB - yA) * max(0, zB - zA)\n",
    "#\n",
    "# boxAArea = (a[3] - a[0]) * (a[4] - a[1]) * (a[5] - a[2])\n",
    "# boxBArea = (b[3] - b[0]) * (b[4] - b[1]) * (b[5] - b[2])\n",
    "#\n",
    "# iou = interArea / float(boxAArea + boxBArea - interArea)"
   ]
  },
  {
   "cell_type": "code",
   "execution_count": 2,
   "outputs": [],
   "source": [
    "def iou(a, b):\n",
    "    zA = tf.maximum(a[0], b[0])\n",
    "    yA = tf.maximum(a[1], b[1])\n",
    "    xA = tf.maximum(a[2], b[2])\n",
    "    zB = tf.minimum(a[3], b[3])\n",
    "    yB = tf.minimum(a[4], b[4])\n",
    "    xB = tf.minimum(a[5], b[5])\n",
    "\n",
    "    interArea = tf.maximum(0, xB - xA) * tf.maximum(0, yB - yA) * tf.maximum(0, zB - zA)\n",
    "\n",
    "    boxAArea = (a[3] - a[0]) * (a[4] - a[1]) * (a[5] - a[2])\n",
    "    boxBArea = (b[3] - b[0]) * (b[4] - b[1]) * (b[5] - b[2])\n",
    "\n",
    "    return interArea / (boxAArea + boxBArea - interArea)\n"
   ],
   "metadata": {
    "collapsed": false,
    "pycharm": {
     "name": "#%%\n"
    }
   }
  },
  {
   "cell_type": "code",
   "execution_count": 3,
   "outputs": [],
   "source": [
    "import tensorflow as tf\n",
    "\n",
    "a = tf.constant([0, 0, 1, 6, 7, 9])\n",
    "b = tf.constant([2, 5, 3, 10, 10, 10])\n",
    "\n",
    "iou = iou(a, b)\n",
    "\n",
    "# init_op = tf.global_variables_initializer()\n",
    "#\n",
    "# with tf.Session() as sess:\n",
    "#   sess.run(init_op)\n",
    "#   iou_value = iou.eval()"
   ],
   "metadata": {
    "collapsed": false,
    "pycharm": {
     "name": "#%%\n"
    }
   }
  },
  {
   "cell_type": "code",
   "execution_count": 4,
   "outputs": [
    {
     "data": {
      "text/plain": "<tf.Tensor: id=139, shape=(6,), dtype=int32, numpy=array([0, 0, 1, 6, 7, 9], dtype=int32)>"
     },
     "execution_count": 4,
     "metadata": {},
     "output_type": "execute_result"
    }
   ],
   "source": [
    "tf.concat([a[:2], a[2:]], 0)"
   ],
   "metadata": {
    "collapsed": false,
    "pycharm": {
     "name": "#%%\n"
    }
   }
  },
  {
   "cell_type": "code",
   "execution_count": 5,
   "outputs": [],
   "source": [
    "import tensorflow as tf\n",
    "\n",
    "boxes = tf.constant([\n",
    "    [0, 0, 1, 6, 7, 9],\n",
    "    [2, 5, 3, 10, 10, 10],\n",
    "    [20, 50, 30, 100, 100, 100],\n",
    "    [21, 40, 10, 330, 350, 360]\n",
    "    ]\n",
    ")\n",
    "\n",
    "scores = tf.constant([\n",
    "    0.2,\n",
    "    0.4,\n",
    "    0.1,\n",
    "    0.6\n",
    "])\n",
    "\n",
    "boxes_prym = boxes[1:, :]"
   ],
   "metadata": {
    "collapsed": false,
    "pycharm": {
     "name": "#%%\n"
    }
   }
  },
  {
   "cell_type": "code",
   "execution_count": 7,
   "outputs": [
    {
     "name": "stdout",
     "output_type": "stream",
     "text": [
      "[[0 0 1 6 7 9]\n",
      " [2 5 3 10 10 10]\n",
      " [20 50 30 100 100 100]\n",
      " [21 40 10 330 350 360]]\n"
     ]
    }
   ],
   "source": [
    "import sys\n",
    "import numpy as np\n",
    "\n",
    "\n",
    "def iou(a, b):\n",
    "    zA = tf.maximum(a[0], b[0])\n",
    "    yA = tf.maximum(a[1], b[1])\n",
    "    xA = tf.maximum(a[2], b[2])\n",
    "    zB = tf.minimum(a[3], b[3])\n",
    "    yB = tf.minimum(a[4], b[4])\n",
    "    xB = tf.minimum(a[5], b[5])\n",
    "\n",
    "    interArea = tf.maximum(0, xB - xA) * tf.maximum(0, yB - yA) * tf.maximum(0, zB - zA)\n",
    "\n",
    "    boxAArea = (a[3] - a[0]) * (a[4] - a[1]) * (a[5] - a[2])\n",
    "    boxBArea = (b[3] - b[0]) * (b[4] - b[1]) * (b[5] - b[2])\n",
    "\n",
    "    return interArea / (boxAArea + boxBArea - interArea)\n",
    "\n",
    "\n",
    "def iou_evaluation(n, boxes, scores, highest_score_box, nms_threshold, index, removed_boxes):\n",
    "    iou_value = iou(highest_score_box, boxes[index])\n",
    "\n",
    "    (boxes, scores, index, removed_boxes) = tf.cond(\n",
    "        tf.greater(iou_value, nms_threshold),\n",
    "        lambda: (\n",
    "            tf.concat([boxes[:index], boxes[index + 1:]], 0),\n",
    "            tf.concat([scores[:index], scores[index + 1:]], 0),\n",
    "            index,\n",
    "            tf.add(removed_boxes, 1)\n",
    "        ),\n",
    "        lambda: (boxes, scores, tf.add(index, 1), removed_boxes)\n",
    "    )\n",
    "    return [tf.add(n, 1), boxes, scores, highest_score_box, nms_threshold, index, removed_boxes]\n",
    "\n",
    "\n",
    "def nms_step(n, boxes, scores, nms_threshold, proposals):\n",
    "    sorted_args = tf.argsort(scores, direction='DESCENDING')\n",
    "    highest_score_arg = sorted_args[0]\n",
    "    highest_score_box = boxes[highest_score_arg]\n",
    "    number_of_processed = tf.constant(0)\n",
    "    index = tf.constant(0)\n",
    "    boxes = tf.concat([boxes[:highest_score_arg], boxes[highest_score_arg + 1:]], 0)\n",
    "    scores = tf.concat([scores[:highest_score_arg], scores[highest_score_arg + 1:]], 0)\n",
    "    boxes_size = tf.shape(boxes)[0]\n",
    "    removed_boxes = tf.constant(0)\n",
    "\n",
    "    (n_internal, boxes, scores, highest_score_box, nms_threshold, index, removed_boxes) = tf.while_loop(\n",
    "        lambda n, b, s, h, t, i, r: n < boxes_size,\n",
    "        lambda n, b, s, h, t, i, r: iou_evaluation(n, b, s, h, t, i, r),\n",
    "        [\n",
    "            number_of_processed,\n",
    "            boxes,\n",
    "            scores,\n",
    "            highest_score_box,\n",
    "            nms_threshold,\n",
    "            index,\n",
    "            removed_boxes\n",
    "        ],\n",
    "        shape_invariants=[\n",
    "            number_of_processed.get_shape(),\n",
    "            tf.TensorShape([None, 6]),\n",
    "            tf.TensorShape([None]),\n",
    "            tf.TensorShape([None]),\n",
    "            nms_threshold.get_shape(),\n",
    "            index.get_shape(),\n",
    "            removed_boxes.get_shape()\n",
    "        ]\n",
    "    )\n",
    "    return [\n",
    "        tf.add(tf.add(n, 1), removed_boxes),\n",
    "        boxes,\n",
    "        scores,\n",
    "        nms_threshold,\n",
    "        tf.concat([proposals, [highest_score_arg]], 0)\n",
    "    ]\n",
    "\n",
    "\n",
    "def nms(boxes, scores, proposal_count=4, nms_threshold=0.5):\n",
    "    number_of_processed = tf.constant(0)\n",
    "    boxes_size = tf.shape(boxes)[0]\n",
    "    nms_threshold = tf.constant(nms_threshold, dtype=tf.float64)\n",
    "\n",
    "    proposals = tf.zeros([0])\n",
    "\n",
    "    tf.print(boxes, output_stream=sys.stdout)\n",
    "\n",
    "    number_of_processed, boxes, scores, nms_threshold, proposals = tf.while_loop(\n",
    "        lambda n, b, s, t, p: tf.math.logical_and(n < boxes_size, tf.shape(p)[0] < proposal_count),\n",
    "        lambda n, b, s, t, p: nms_step(n, b, s, t, p),\n",
    "        [number_of_processed, boxes, scores, nms_threshold, proposals],\n",
    "        shape_invariants=[\n",
    "            number_of_processed.get_shape(),\n",
    "            tf.TensorShape([None, 6]),\n",
    "            tf.TensorShape([None]),\n",
    "            nms_threshold.get_shape(),\n",
    "            tf.TensorShape([None]),\n",
    "        ]\n",
    "    )\n",
    "\n",
    "    return proposals[1:]\n",
    "\n",
    "proposals = nms(boxes, scores)\n",
    "# proposals = nms(boxes, scores).numpy()\n"
   ],
   "metadata": {
    "collapsed": false,
    "pycharm": {
     "name": "#%%\n"
    }
   }
  },
  {
   "cell_type": "code",
   "execution_count": null,
   "outputs": [],
   "source": [
    "init_op = tf.global_variables_initializer()\n",
    "\n",
    "with tf.Session() as sess:\n",
    "  sess.run(init_op)\n",
    "  proposals_value = proposals.eval()"
   ],
   "metadata": {
    "collapsed": false,
    "pycharm": {
     "name": "#%%\n"
    }
   }
  },
  {
   "cell_type": "code",
   "execution_count": null,
   "outputs": [],
   "source": [
    "a = [1, 2]\n",
    "a[:1] + a[1 + 1:]"
   ],
   "metadata": {
    "collapsed": false,
    "pycharm": {
     "name": "#%%\n"
    }
   }
  },
  {
   "cell_type": "code",
   "execution_count": null,
   "outputs": [],
   "source": [
    "boxes_size = tf.constant(4)\n",
    "n = tf.constant(4)\n"
   ],
   "metadata": {
    "collapsed": false,
    "pycharm": {
     "name": "#%%\n"
    }
   }
  },
  {
   "cell_type": "code",
   "execution_count": null,
   "outputs": [],
   "source": [],
   "metadata": {
    "collapsed": false,
    "pycharm": {
     "name": "#%%\n"
    }
   }
  },
  {
   "cell_type": "code",
   "execution_count": null,
   "outputs": [],
   "source": [],
   "metadata": {
    "collapsed": false,
    "pycharm": {
     "name": "#%%\n"
    }
   }
  }
 ],
 "metadata": {
  "kernelspec": {
   "name": "python3",
   "language": "python",
   "display_name": "Python 3"
  },
  "language_info": {
   "codemirror_mode": {
    "name": "ipython",
    "version": 2
   },
   "file_extension": ".py",
   "mimetype": "text/x-python",
   "name": "python",
   "nbconvert_exporter": "python",
   "pygments_lexer": "ipython2",
   "version": "2.7.6"
  }
 },
 "nbformat": 4,
 "nbformat_minor": 0
}