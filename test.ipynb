{
 "cells": [
  {
   "cell_type": "code",
   "execution_count": 24,
   "metadata": {
    "collapsed": true,
    "pycharm": {
     "name": "#%%\n"
    }
   },
   "outputs": [],
   "source": [
    "# import numpy as np\n",
    "#\n",
    "# # z1, y1, x1, z2, y2, x2\n",
    "# a = np.array([0, 0, 1, 6, 7, 9])\n",
    "# b = np.array([2, 5, 3, 10, 10, 10])\n",
    "#\n",
    "# zA = max(a[0], b[0])\n",
    "# yA = max(a[1], b[1])\n",
    "# xA = max(a[2], b[2])\n",
    "# zB = max(a[3], b[3])\n",
    "# yB = max(a[4], b[4])\n",
    "# xB = max(a[5], b[5])\n",
    "#\n",
    "# interArea = max(0, xB - xA) * max(0, yB - yA) * max(0, zB - zA)\n",
    "#\n",
    "# boxAArea = (a[3] - a[0]) * (a[4] - a[1]) * (a[5] - a[2])\n",
    "# boxBArea = (b[3] - b[0]) * (b[4] - b[1]) * (b[5] - b[2])\n",
    "#\n",
    "# iou = interArea / float(boxAArea + boxBArea - interArea)"
   ]
  },
  {
   "cell_type": "code",
   "execution_count": 25,
   "outputs": [],
   "source": [
    "def iou(a, b):\n",
    "    zA = tf.maximum(a[0], b[0])\n",
    "    yA = tf.maximum(a[1], b[1])\n",
    "    xA = tf.maximum(a[2], b[2])\n",
    "    zB = tf.maximum(a[3], b[3])\n",
    "    yB = tf.maximum(a[4], b[4])\n",
    "    xB = tf.maximum(a[5], b[5])\n",
    "\n",
    "    interArea = tf.maximum(0, xB - xA) * tf.maximum(0, yB - yA) * tf.maximum(0, zB - zA)\n",
    "\n",
    "    boxAArea = (a[3] - a[0]) * (a[4] - a[1]) * (a[5] - a[2])\n",
    "    boxBArea = (b[3] - b[0]) * (b[4] - b[1]) * (b[5] - b[2])\n",
    "\n",
    "    return interArea / (boxAArea + boxBArea - interArea)\n"
   ],
   "metadata": {
    "collapsed": false,
    "pycharm": {
     "name": "#%%\n"
    }
   }
  },
  {
   "cell_type": "code",
   "execution_count": 26,
   "outputs": [],
   "source": [
    "import tensorflow as tf\n",
    "\n",
    "a = tf.constant([0, 0, 1, 6, 7, 9])\n",
    "b = tf.constant([2, 5, 3, 10, 10, 10])\n",
    "\n",
    "iou = iou(a, b)\n",
    "\n",
    "init_op = tf.global_variables_initializer()\n",
    "\n",
    "with tf.Session() as sess:\n",
    "  sess.run(init_op)\n",
    "  iou_value = iou.eval()"
   ],
   "metadata": {
    "collapsed": false,
    "pycharm": {
     "name": "#%%\n"
    }
   }
  },
  {
   "cell_type": "code",
   "execution_count": 27,
   "outputs": [],
   "source": [
    "boxes = tf.constant([\n",
    "    [0, 0, 1, 6, 7, 9],\n",
    "    [2, 5, 3, 10, 10, 10],\n",
    "    [20, 50, 30, 100, 100, 100],\n",
    "    [21, 40, 10, 330, 350, 360]\n",
    "    ]\n",
    ")\n",
    "\n",
    "scores = tf.constant([\n",
    "    0.2,\n",
    "    0.4,\n",
    "    0.1,\n",
    "    0.6\n",
    "])\n",
    "\n",
    "boxes_prym = boxes[1:, :]"
   ],
   "metadata": {
    "collapsed": false,
    "pycharm": {
     "name": "#%%\n"
    }
   }
  },
  {
   "cell_type": "code",
   "execution_count": 39,
   "outputs": [
    {
     "name": "stdout",
     "output_type": "stream",
     "text": [
      "Tensor(\"Const_9:0\", shape=(4, 6), dtype=int32)\n",
      "Tensor(\"Const_10:0\", shape=(4,), dtype=float32)\n",
      "4\n",
      "0.5\n"
     ]
    },
    {
     "ename": "ValueError",
     "evalue": "The two structures don't have the same nested structure.\n\nFirst structure: type=list str=[<tf.Tensor 'Const_17:0' shape=() dtype=int32>, <tf.Tensor 'Const_9:0' shape=(4, 6) dtype=int32>, <tf.Tensor 'Const_10:0' shape=(4,) dtype=float32>, <tf.Tensor 'argsort/TopKV2:1' shape=(4,) dtype=int32>]\n\nSecond structure: type=list str=[TensorShape([]), TensorShape([Dimension(None), Dimension(6)]), TensorShape([Dimension(None)]), TensorShape([Dimension(None)]), TensorShape([Dimension(None)])]\n\nMore specifically: The two structures don't have the same number of elements. First structure: type=list str=[<tf.Tensor 'Const_17:0' shape=() dtype=int32>, <tf.Tensor 'Const_9:0' shape=(4, 6) dtype=int32>, <tf.Tensor 'Const_10:0' shape=(4,) dtype=float32>, <tf.Tensor 'argsort/TopKV2:1' shape=(4,) dtype=int32>]. Second structure: type=list str=[TensorShape([]), TensorShape([Dimension(None), Dimension(6)]), TensorShape([Dimension(None)]), TensorShape([Dimension(None)]), TensorShape([Dimension(None)])]\nEntire first structure:\n[., ., ., .]\nEntire second structure:\n[., ., ., ., .]",
     "output_type": "error",
     "traceback": [
      "\u001B[0;31m---------------------------------------------------------------------------\u001B[0m",
      "\u001B[0;31mValueError\u001B[0m                                Traceback (most recent call last)",
      "\u001B[0;32m~/opt/anaconda3/envs/tensorflow-3d-nms/lib/python3.7/site-packages/tensorflow_core/python/util/nest.py\u001B[0m in \u001B[0;36massert_same_structure\u001B[0;34m(nest1, nest2, check_types, expand_composites)\u001B[0m\n\u001B[1;32m    318\u001B[0m     _pywrap_tensorflow.AssertSameStructure(nest1, nest2, check_types,\n\u001B[0;32m--> 319\u001B[0;31m                                            expand_composites)\n\u001B[0m\u001B[1;32m    320\u001B[0m   \u001B[0;32mexcept\u001B[0m \u001B[0;34m(\u001B[0m\u001B[0mValueError\u001B[0m\u001B[0;34m,\u001B[0m \u001B[0mTypeError\u001B[0m\u001B[0;34m)\u001B[0m \u001B[0;32mas\u001B[0m \u001B[0me\u001B[0m\u001B[0;34m:\u001B[0m\u001B[0;34m\u001B[0m\u001B[0;34m\u001B[0m\u001B[0m\n",
      "\u001B[0;31mValueError\u001B[0m: The two structures don't have the same nested structure.\n\nFirst structure: type=list str=[<tf.Tensor 'Const_17:0' shape=() dtype=int32>, <tf.Tensor 'Const_9:0' shape=(4, 6) dtype=int32>, <tf.Tensor 'Const_10:0' shape=(4,) dtype=float32>, <tf.Tensor 'argsort/TopKV2:1' shape=(4,) dtype=int32>]\n\nSecond structure: type=list str=[TensorShape([]), TensorShape([Dimension(None), Dimension(6)]), TensorShape([Dimension(None)]), TensorShape([Dimension(None)]), TensorShape([Dimension(None)])]\n\nMore specifically: The two structures don't have the same number of elements. First structure: type=list str=[<tf.Tensor 'Const_17:0' shape=() dtype=int32>, <tf.Tensor 'Const_9:0' shape=(4, 6) dtype=int32>, <tf.Tensor 'Const_10:0' shape=(4,) dtype=float32>, <tf.Tensor 'argsort/TopKV2:1' shape=(4,) dtype=int32>]. Second structure: type=list str=[TensorShape([]), TensorShape([Dimension(None), Dimension(6)]), TensorShape([Dimension(None)]), TensorShape([Dimension(None)]), TensorShape([Dimension(None)])]",
      "\nDuring handling of the above exception, another exception occurred:\n",
      "\u001B[0;31mValueError\u001B[0m                                Traceback (most recent call last)",
      "\u001B[0;32m<ipython-input-39-212412ed6d53>\u001B[0m in \u001B[0;36m<module>\u001B[0;34m\u001B[0m\n\u001B[1;32m     30\u001B[0m     )\n\u001B[1;32m     31\u001B[0m \u001B[0;34m\u001B[0m\u001B[0m\n\u001B[0;32m---> 32\u001B[0;31m \u001B[0mnms\u001B[0m\u001B[0;34m(\u001B[0m\u001B[0mboxes\u001B[0m\u001B[0;34m,\u001B[0m \u001B[0mscores\u001B[0m\u001B[0;34m)\u001B[0m\u001B[0;34m\u001B[0m\u001B[0;34m\u001B[0m\u001B[0m\n\u001B[0m\u001B[1;32m     33\u001B[0m \u001B[0;34m\u001B[0m\u001B[0m\n\u001B[1;32m     34\u001B[0m \u001B[0;34m\u001B[0m\u001B[0m\n",
      "\u001B[0;32m<ipython-input-39-212412ed6d53>\u001B[0m in \u001B[0;36mnms\u001B[0;34m(boxes, scores, proposal_count, nms_threshold)\u001B[0m\n\u001B[1;32m     26\u001B[0m             \u001B[0mtf\u001B[0m\u001B[0;34m.\u001B[0m\u001B[0mTensorShape\u001B[0m\u001B[0;34m(\u001B[0m\u001B[0;34m[\u001B[0m\u001B[0;32mNone\u001B[0m\u001B[0;34m]\u001B[0m\u001B[0;34m)\u001B[0m\u001B[0;34m,\u001B[0m\u001B[0;34m\u001B[0m\u001B[0;34m\u001B[0m\u001B[0m\n\u001B[1;32m     27\u001B[0m             \u001B[0mtf\u001B[0m\u001B[0;34m.\u001B[0m\u001B[0mTensorShape\u001B[0m\u001B[0;34m(\u001B[0m\u001B[0;34m[\u001B[0m\u001B[0;32mNone\u001B[0m\u001B[0;34m]\u001B[0m\u001B[0;34m)\u001B[0m\u001B[0;34m,\u001B[0m\u001B[0;34m\u001B[0m\u001B[0;34m\u001B[0m\u001B[0m\n\u001B[0;32m---> 28\u001B[0;31m             \u001B[0mtf\u001B[0m\u001B[0;34m.\u001B[0m\u001B[0mTensorShape\u001B[0m\u001B[0;34m(\u001B[0m\u001B[0;34m[\u001B[0m\u001B[0;32mNone\u001B[0m\u001B[0;34m]\u001B[0m\u001B[0;34m)\u001B[0m\u001B[0;34m\u001B[0m\u001B[0;34m\u001B[0m\u001B[0m\n\u001B[0m\u001B[1;32m     29\u001B[0m         ]\n\u001B[1;32m     30\u001B[0m     )\n",
      "\u001B[0;32m~/opt/anaconda3/envs/tensorflow-3d-nms/lib/python3.7/site-packages/tensorflow_core/python/ops/control_flow_ops.py\u001B[0m in \u001B[0;36mwhile_loop\u001B[0;34m(cond, body, loop_vars, shape_invariants, parallel_iterations, back_prop, swap_memory, name, maximum_iterations, return_same_structure)\u001B[0m\n\u001B[1;32m   2734\u001B[0m \u001B[0;34m\u001B[0m\u001B[0m\n\u001B[1;32m   2735\u001B[0m       nest.assert_same_structure(\n\u001B[0;32m-> 2736\u001B[0;31m           loop_vars, shape_invariants, expand_composites=False)\n\u001B[0m\u001B[1;32m   2737\u001B[0m       shape_invariants = nest.map_structure(\n\u001B[1;32m   2738\u001B[0m           \u001B[0m_get_shape_invariant\u001B[0m\u001B[0;34m,\u001B[0m\u001B[0;34m\u001B[0m\u001B[0;34m\u001B[0m\u001B[0m\n",
      "\u001B[0;32m~/opt/anaconda3/envs/tensorflow-3d-nms/lib/python3.7/site-packages/tensorflow_core/python/util/nest.py\u001B[0m in \u001B[0;36massert_same_structure\u001B[0;34m(nest1, nest2, check_types, expand_composites)\u001B[0m\n\u001B[1;32m    324\u001B[0m                   \u001B[0;34m\"Entire first structure:\\n%s\\n\"\u001B[0m\u001B[0;34m\u001B[0m\u001B[0;34m\u001B[0m\u001B[0m\n\u001B[1;32m    325\u001B[0m                   \u001B[0;34m\"Entire second structure:\\n%s\"\u001B[0m\u001B[0;34m\u001B[0m\u001B[0;34m\u001B[0m\u001B[0m\n\u001B[0;32m--> 326\u001B[0;31m                   % (str(e), str1, str2))\n\u001B[0m\u001B[1;32m    327\u001B[0m \u001B[0;34m\u001B[0m\u001B[0m\n\u001B[1;32m    328\u001B[0m \u001B[0;34m\u001B[0m\u001B[0m\n",
      "\u001B[0;31mValueError\u001B[0m: The two structures don't have the same nested structure.\n\nFirst structure: type=list str=[<tf.Tensor 'Const_17:0' shape=() dtype=int32>, <tf.Tensor 'Const_9:0' shape=(4, 6) dtype=int32>, <tf.Tensor 'Const_10:0' shape=(4,) dtype=float32>, <tf.Tensor 'argsort/TopKV2:1' shape=(4,) dtype=int32>]\n\nSecond structure: type=list str=[TensorShape([]), TensorShape([Dimension(None), Dimension(6)]), TensorShape([Dimension(None)]), TensorShape([Dimension(None)]), TensorShape([Dimension(None)])]\n\nMore specifically: The two structures don't have the same number of elements. First structure: type=list str=[<tf.Tensor 'Const_17:0' shape=() dtype=int32>, <tf.Tensor 'Const_9:0' shape=(4, 6) dtype=int32>, <tf.Tensor 'Const_10:0' shape=(4,) dtype=float32>, <tf.Tensor 'argsort/TopKV2:1' shape=(4,) dtype=int32>]. Second structure: type=list str=[TensorShape([]), TensorShape([Dimension(None), Dimension(6)]), TensorShape([Dimension(None)]), TensorShape([Dimension(None)]), TensorShape([Dimension(None)])]\nEntire first structure:\n[., ., ., .]\nEntire second structure:\n[., ., ., ., .]"
     ]
    }
   ],
   "source": [
    "def nms(boxes, scores, proposal_count=4, nms_threshold=0.5):\n",
    "    print(boxes)\n",
    "    print(scores)\n",
    "    print(proposal_count)\n",
    "    print(nms_threshold)\n",
    "\n",
    "    # @tf.function\n",
    "    # def nms_step(boxes):\n",
    "    #     print(boxes)\n",
    "    #     boxes = boxes[1:]\n",
    "\n",
    "    number_of_processed = tf.constant(0)\n",
    "    boxes_size = boxes.get_shape()[0]\n",
    "    sorted_args = tf.argsort(scores)\n",
    "\n",
    "    def nms_step(n, boxes, scores, sorted_args):\n",
    "        return [n+1, tf.constant([[2, 0, 2, 3, 4, 1]]), scores, sorted_args]\n",
    "\n",
    "    result = tf.while_loop(\n",
    "        lambda n, b, s, sa: n < boxes_size,\n",
    "        lambda n, b, s, sa: nms(n, b, s, sa),\n",
    "        [number_of_processed, boxes, scores, sorted_args],\n",
    "        shape_invariants=[\n",
    "            number_of_processed.get_shape(),\n",
    "            tf.TensorShape([None, 6]),\n",
    "            tf.TensorShape([None]),\n",
    "            tf.TensorShape([None]),\n",
    "            tf.TensorShape([None])\n",
    "        ]\n",
    "    )\n",
    "\n",
    "nms(boxes, scores)\n"
   ],
   "metadata": {
    "collapsed": false,
    "pycharm": {
     "name": "#%%\n"
    }
   }
  },
  {
   "cell_type": "code",
   "execution_count": null,
   "outputs": [],
   "source": [],
   "metadata": {
    "collapsed": false,
    "pycharm": {
     "name": "#%%\n"
    }
   }
  }
 ],
 "metadata": {
  "kernelspec": {
   "name": "pycharm-656268ef",
   "language": "python",
   "display_name": "PyCharm (tensorflow-3d-nms)"
  },
  "language_info": {
   "codemirror_mode": {
    "name": "ipython",
    "version": 2
   },
   "file_extension": ".py",
   "mimetype": "text/x-python",
   "name": "python",
   "nbconvert_exporter": "python",
   "pygments_lexer": "ipython2",
   "version": "2.7.6"
  }
 },
 "nbformat": 4,
 "nbformat_minor": 0
}