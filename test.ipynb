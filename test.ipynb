{
 "cells": [
  {
   "cell_type": "code",
   "execution_count": 17,
   "metadata": {
    "collapsed": true,
    "pycharm": {
     "name": "#%%\n"
    }
   },
   "outputs": [],
   "source": [
    "# import numpy as np\n",
    "#\n",
    "# # z1, y1, x1, z2, y2, x2\n",
    "# a = np.array([0, 0, 1, 6, 7, 9])\n",
    "# b = np.array([2, 5, 3, 10, 10, 10])\n",
    "#\n",
    "# zA = max(a[0], b[0])\n",
    "# yA = max(a[1], b[1])\n",
    "# xA = max(a[2], b[2])\n",
    "# zB = max(a[3], b[3])\n",
    "# yB = max(a[4], b[4])\n",
    "# xB = max(a[5], b[5])\n",
    "#\n",
    "# interArea = max(0, xB - xA) * max(0, yB - yA) * max(0, zB - zA)\n",
    "#\n",
    "# boxAArea = (a[3] - a[0]) * (a[4] - a[1]) * (a[5] - a[2])\n",
    "# boxBArea = (b[3] - b[0]) * (b[4] - b[1]) * (b[5] - b[2])\n",
    "#\n",
    "# iou = interArea / float(boxAArea + boxBArea - interArea)"
   ]
  },
  {
   "cell_type": "code",
   "execution_count": 18,
   "outputs": [],
   "source": [
    "def iou(a, b):\n",
    "    zA = tf.maximum(a[0], b[0])\n",
    "    yA = tf.maximum(a[1], b[1])\n",
    "    xA = tf.maximum(a[2], b[2])\n",
    "    zB = tf.maximum(a[3], b[3])\n",
    "    yB = tf.maximum(a[4], b[4])\n",
    "    xB = tf.maximum(a[5], b[5])\n",
    "\n",
    "    interArea = tf.maximum(0, xB - xA) * tf.maximum(0, yB - yA) * tf.maximum(0, zB - zA)\n",
    "\n",
    "    boxAArea = (a[3] - a[0]) * (a[4] - a[1]) * (a[5] - a[2])\n",
    "    boxBArea = (b[3] - b[0]) * (b[4] - b[1]) * (b[5] - b[2])\n",
    "\n",
    "    return interArea / (boxAArea + boxBArea - interArea)\n"
   ],
   "metadata": {
    "collapsed": false,
    "pycharm": {
     "name": "#%%\n"
    }
   }
  },
  {
   "cell_type": "code",
   "execution_count": 19,
   "outputs": [],
   "source": [
    "import tensorflow as tf\n",
    "\n",
    "a = tf.constant([0, 0, 1, 6, 7, 9])\n",
    "b = tf.constant([2, 5, 3, 10, 10, 10])\n",
    "\n",
    "iou = iou(a, b)\n",
    "\n",
    "init_op = tf.global_variables_initializer()\n",
    "\n",
    "with tf.Session() as sess:\n",
    "  sess.run(init_op)\n",
    "  iou_value = iou.eval()"
   ],
   "metadata": {
    "collapsed": false,
    "pycharm": {
     "name": "#%%\n"
    }
   }
  },
  {
   "cell_type": "code",
   "execution_count": 30,
   "outputs": [
    {
     "data": {
      "text/plain": "<tf.Tensor 'concat_5:0' shape=(6,) dtype=int32>"
     },
     "execution_count": 30,
     "metadata": {},
     "output_type": "execute_result"
    }
   ],
   "source": [
    "tf.concat([a[:2], a[2:]], 0)"
   ],
   "metadata": {
    "collapsed": false,
    "pycharm": {
     "name": "#%%\n"
    }
   }
  },
  {
   "cell_type": "code",
   "execution_count": null,
   "outputs": [],
   "source": [
    "boxes = tf.constant([\n",
    "    [0, 0, 1, 6, 7, 9],\n",
    "    [2, 5, 3, 10, 10, 10],\n",
    "    [20, 50, 30, 100, 100, 100],\n",
    "    [21, 40, 10, 330, 350, 360]\n",
    "    ]\n",
    ")\n",
    "\n",
    "scores = tf.constant([\n",
    "    0.2,\n",
    "    0.4,\n",
    "    0.1,\n",
    "    0.6\n",
    "])\n",
    "\n",
    "boxes_prym = boxes[1:, :]"
   ],
   "metadata": {
    "collapsed": false,
    "pycharm": {
     "name": "#%%\n"
    }
   }
  },
  {
   "cell_type": "code",
   "execution_count": 64,
   "outputs": [
    {
     "name": "stdout",
     "output_type": "stream",
     "text": [
      "Tensor(\"Const_2:0\", shape=(4, 6), dtype=int32)\n",
      "Tensor(\"Const_3:0\", shape=(4,), dtype=float32)\n",
      "4\n",
      "0.5\n",
      "Tensor(\"while_47/strided_slice_1:0\", shape=(6,), dtype=int32)\n"
     ]
    }
   ],
   "source": [
    "def iou(a, b):\n",
    "    zA = tf.maximum(a[0], b[0])\n",
    "    yA = tf.maximum(a[1], b[1])\n",
    "    xA = tf.maximum(a[2], b[2])\n",
    "    zB = tf.maximum(a[3], b[3])\n",
    "    yB = tf.maximum(a[4], b[4])\n",
    "    xB = tf.maximum(a[5], b[5])\n",
    "\n",
    "    interArea = tf.maximum(0, xB - xA) * tf.maximum(0, yB - yA) * tf.maximum(0, zB - zA)\n",
    "\n",
    "    boxAArea = (a[3] - a[0]) * (a[4] - a[1]) * (a[5] - a[2])\n",
    "    boxBArea = (b[3] - b[0]) * (b[4] - b[1]) * (b[5] - b[2])\n",
    "\n",
    "    return interArea / (boxAArea + boxBArea - interArea)\n",
    "\n",
    "\n",
    "def iou_evaluation(n, boxes, scores, highest_score_box, nms_threshold):\n",
    "    iou_value = iou(highest_score_box, boxes[n])\n",
    "    (boxes, scores) = tf.cond(\n",
    "        tf.greater(iou_value, nms_threshold),\n",
    "        lambda: (\n",
    "            tf.cast(tf.concat([boxes[:n], boxes[n:]], 0), tf.float32),\n",
    "            tf.cast(tf.concat([scores[:n], scores[n:]], 0), tf.float32)\n",
    "        ),\n",
    "        lambda: (tf.cast(boxes, tf.float32), tf.cast(scores, tf.float32))\n",
    "    )\n",
    "    return [tf.add(n, 1), boxes, scores, highest_score_box, nms_threshold]\n",
    "\n",
    "\n",
    "def nms_step(n, boxes, scores, sorted_args, nms_threshold):\n",
    "    highest_score_arg = sorted_args[0]\n",
    "    highest_score_box = boxes[highest_score_arg]\n",
    "    print(highest_score_box)\n",
    "    number_of_processed = tf.constant(0)\n",
    "    boxes_size = tf.shape(boxes)[0]\n",
    "    tf.while_loop(\n",
    "        lambda n, b, s, h, t: n < boxes_size,\n",
    "        lambda n, b, s, h, t: iou_evaluation(n, b, s, h, t),\n",
    "        [\n",
    "            number_of_processed,\n",
    "            tf.concat([boxes[:highest_score_arg], boxes[highest_score_arg:]], 0),\n",
    "            tf.concat([scores[:highest_score_arg], scores[highest_score_arg:]], 0),\n",
    "            highest_score_box,\n",
    "            nms_threshold\n",
    "        ],\n",
    "        shape_invariants=[\n",
    "            number_of_processed.get_shape(),\n",
    "            tf.TensorShape([None, 6]),\n",
    "            tf.TensorShape([None]),\n",
    "            tf.TensorShape([None]),\n",
    "            nms_threshold.get_shape()\n",
    "        ]\n",
    "    )\n",
    "    return [tf.add(n, 1), tf.constant([[2, 0, 2, 3, 4, 1]]), scores, sorted_args, nms_threshold]\n",
    "\n",
    "\n",
    "def nms(boxes, scores, proposal_count=4, nms_threshold=0.5):\n",
    "    print(boxes)\n",
    "    print(scores)\n",
    "    print(proposal_count)\n",
    "    print(nms_threshold)\n",
    "\n",
    "    number_of_processed = tf.constant(0)\n",
    "    boxes_size = tf.shape(boxes)[0]\n",
    "    sorted_args = tf.argsort(scores, direction='DESCENDING')\n",
    "    nms_threshold = tf.constant(nms_threshold, dtype=tf.float64)\n",
    "\n",
    "    result = tf.while_loop(\n",
    "        lambda n, b, s, sa, t: n < boxes_size,\n",
    "        lambda n, b, s, sa, t: nms_step(n, b, s, sa, t),\n",
    "        [number_of_processed, boxes, scores, sorted_args, nms_threshold],\n",
    "        shape_invariants=[\n",
    "            number_of_processed.get_shape(),\n",
    "            tf.TensorShape([None, 6]),\n",
    "            tf.TensorShape([None]),\n",
    "            tf.TensorShape([None]),\n",
    "            nms_threshold.get_shape()\n",
    "        ]\n",
    "    )\n",
    "\n",
    "nms(boxes, scores)\n"
   ],
   "metadata": {
    "collapsed": false,
    "pycharm": {
     "name": "#%%\n"
    }
   }
  },
  {
   "cell_type": "code",
   "execution_count": null,
   "outputs": [],
   "source": [],
   "metadata": {
    "collapsed": false,
    "pycharm": {
     "name": "#%%\n"
    }
   }
  }
 ],
 "metadata": {
  "kernelspec": {
   "name": "python3",
   "language": "python",
   "display_name": "Python 3"
  },
  "language_info": {
   "codemirror_mode": {
    "name": "ipython",
    "version": 2
   },
   "file_extension": ".py",
   "mimetype": "text/x-python",
   "name": "python",
   "nbconvert_exporter": "python",
   "pygments_lexer": "ipython2",
   "version": "2.7.6"
  }
 },
 "nbformat": 4,
 "nbformat_minor": 0
}