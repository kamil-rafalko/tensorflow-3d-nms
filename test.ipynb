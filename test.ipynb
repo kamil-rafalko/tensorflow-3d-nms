{
 "cells": [
  {
   "cell_type": "code",
   "execution_count": 1,
   "metadata": {
    "collapsed": true,
    "pycharm": {
     "name": "#%%\n"
    }
   },
   "outputs": [],
   "source": [
    "import tensorflow as tf\n",
    "\n",
    "tf.enable_eager_execution()\n",
    "\n",
    "# import numpy as np\n",
    "#\n",
    "# # z1, y1, x1, z2, y2, x2\n",
    "# a = np.array([0, 0, 1, 6, 7, 9])\n",
    "# b = np.array([2, 5, 3, 10, 10, 10])\n",
    "#\n",
    "# zA = max(a[0], b[0])\n",
    "# yA = max(a[1], b[1])\n",
    "# xA = max(a[2], b[2])\n",
    "# zB = max(a[3], b[3])\n",
    "# yB = max(a[4], b[4])\n",
    "# xB = max(a[5], b[5])\n",
    "#\n",
    "# interArea = max(0, xB - xA) * max(0, yB - yA) * max(0, zB - zA)\n",
    "#\n",
    "# boxAArea = (a[3] - a[0]) * (a[4] - a[1]) * (a[5] - a[2])\n",
    "# boxBArea = (b[3] - b[0]) * (b[4] - b[1]) * (b[5] - b[2])\n",
    "#\n",
    "# iou = interArea / float(boxAArea + boxBArea - interArea)"
   ]
  },
  {
   "cell_type": "code",
   "execution_count": 2,
   "outputs": [],
   "source": [
    "def iou(a, b):\n",
    "    zA = tf.maximum(a[0], b[0])\n",
    "    yA = tf.maximum(a[1], b[1])\n",
    "    xA = tf.maximum(a[2], b[2])\n",
    "    zB = tf.maximum(a[3], b[3])\n",
    "    yB = tf.maximum(a[4], b[4])\n",
    "    xB = tf.maximum(a[5], b[5])\n",
    "\n",
    "    interArea = tf.maximum(0, xB - xA) * tf.maximum(0, yB - yA) * tf.maximum(0, zB - zA)\n",
    "\n",
    "    boxAArea = (a[3] - a[0]) * (a[4] - a[1]) * (a[5] - a[2])\n",
    "    boxBArea = (b[3] - b[0]) * (b[4] - b[1]) * (b[5] - b[2])\n",
    "\n",
    "    return interArea / (boxAArea + boxBArea - interArea)\n"
   ],
   "metadata": {
    "collapsed": false,
    "pycharm": {
     "name": "#%%\n"
    }
   }
  },
  {
   "cell_type": "code",
   "execution_count": 3,
   "outputs": [],
   "source": [
    "import tensorflow as tf\n",
    "\n",
    "a = tf.constant([0, 0, 1, 6, 7, 9])\n",
    "b = tf.constant([2, 5, 3, 10, 10, 10])\n",
    "\n",
    "iou = iou(a, b)\n",
    "\n",
    "# init_op = tf.global_variables_initializer()\n",
    "#\n",
    "# with tf.Session() as sess:\n",
    "#   sess.run(init_op)\n",
    "#   iou_value = iou.eval()"
   ],
   "metadata": {
    "collapsed": false,
    "pycharm": {
     "name": "#%%\n"
    }
   }
  },
  {
   "cell_type": "code",
   "execution_count": 4,
   "outputs": [
    {
     "data": {
      "text/plain": "<tf.Tensor: id=139, shape=(6,), dtype=int32, numpy=array([0, 0, 1, 6, 7, 9], dtype=int32)>"
     },
     "execution_count": 4,
     "metadata": {},
     "output_type": "execute_result"
    }
   ],
   "source": [
    "tf.concat([a[:2], a[2:]], 0)"
   ],
   "metadata": {
    "collapsed": false,
    "pycharm": {
     "name": "#%%\n"
    }
   }
  },
  {
   "cell_type": "code",
   "execution_count": 5,
   "outputs": [],
   "source": [
    "import tensorflow as tf\n",
    "\n",
    "boxes = tf.constant([\n",
    "    [0, 0, 1, 6, 7, 9],\n",
    "    [2, 5, 3, 10, 10, 10],\n",
    "    [20, 50, 30, 100, 100, 100],\n",
    "    [21, 40, 10, 330, 350, 360]\n",
    "    ]\n",
    ")\n",
    "\n",
    "scores = tf.constant([\n",
    "    0.2,\n",
    "    0.4,\n",
    "    0.1,\n",
    "    0.6\n",
    "])\n",
    "\n",
    "boxes_prym = boxes[1:, :]"
   ],
   "metadata": {
    "collapsed": false,
    "pycharm": {
     "name": "#%%\n"
    }
   }
  },
  {
   "cell_type": "code",
   "execution_count": 8,
   "outputs": [
    {
     "name": "stdout",
     "output_type": "stream",
     "text": [
      "tf.Tensor(\n",
      "[[  0   0   1   6   7   9]\n",
      " [  2   5   3  10  10  10]\n",
      " [ 20  50  30 100 100 100]\n",
      " [ 21  40  10 330 350 360]], shape=(4, 6), dtype=int32)\n",
      "tf.Tensor([0.2 0.4 0.1 0.6], shape=(4,), dtype=float32)\n",
      "4\n",
      "0.5\n",
      "[[0 0 1 6 7 9]\n",
      " [2 5 3 10 10 10]\n",
      " [20 50 30 100 100 100]\n",
      " [21 40 10 330 350 360]]\n",
      "tf.Tensor([ 21  40  10 330 350 360], shape=(6,), dtype=int32)\n",
      "A: tf.Tensor([ 21  40  10 330 350 360], shape=(6,), dtype=int32)\n",
      "B: tf.Tensor([0 0 1 6 7 9], shape=(6,), dtype=int32)\n",
      "IOU evaluation start\n",
      "tf.Tensor(0, shape=(), dtype=int32)\n",
      "tf.Tensor(\n",
      "[[  0   0   1   6   7   9]\n",
      " [  2   5   3  10  10  10]\n",
      " [ 20  50  30 100 100 100]], shape=(3, 6), dtype=int32)\n",
      "tf.Tensor([0.2 0.4 0.1], shape=(3,), dtype=float32)\n",
      "IOU evaluation end\n",
      "A: tf.Tensor([ 21  40  10 330 350 360], shape=(6,), dtype=int32)\n",
      "B: tf.Tensor([ 20  50  30 100 100 100], shape=(6,), dtype=int32)\n",
      "IOU evaluation start\n",
      "tf.Tensor(1, shape=(), dtype=int32)\n",
      "tf.Tensor(\n",
      "[[  2   5   3  10  10  10]\n",
      " [ 20  50  30 100 100 100]], shape=(2, 6), dtype=int32)\n",
      "tf.Tensor([0.4 0.1], shape=(2,), dtype=float32)\n",
      "IOU evaluation end\n"
     ]
    },
    {
     "ename": "InvalidArgumentError",
     "evalue": "slice index 2 of dimension 0 out of bounds. [Op:StridedSlice] name: while/while/strided_slice/",
     "output_type": "error",
     "traceback": [
      "\u001B[0;31m---------------------------------------------------------------------------\u001B[0m",
      "\u001B[0;31mInvalidArgumentError\u001B[0m                      Traceback (most recent call last)",
      "\u001B[0;32m<ipython-input-8-da4a1571f99b>\u001B[0m in \u001B[0;36m<module>\u001B[0;34m\u001B[0m\n\u001B[1;32m    104\u001B[0m     \u001B[0;32mreturn\u001B[0m \u001B[0mproposals\u001B[0m\u001B[0;34m\u001B[0m\u001B[0;34m\u001B[0m\u001B[0m\n\u001B[1;32m    105\u001B[0m \u001B[0;34m\u001B[0m\u001B[0m\n\u001B[0;32m--> 106\u001B[0;31m \u001B[0mproposals\u001B[0m \u001B[0;34m=\u001B[0m \u001B[0mnms\u001B[0m\u001B[0;34m(\u001B[0m\u001B[0mboxes\u001B[0m\u001B[0;34m,\u001B[0m \u001B[0mscores\u001B[0m\u001B[0;34m)\u001B[0m\u001B[0;34m\u001B[0m\u001B[0;34m\u001B[0m\u001B[0m\n\u001B[0m\u001B[1;32m    107\u001B[0m \u001B[0;31m# proposals = nms(boxes, scores).numpy()\u001B[0m\u001B[0;34m\u001B[0m\u001B[0;34m\u001B[0m\u001B[0;34m\u001B[0m\u001B[0m\n\u001B[1;32m    108\u001B[0m \u001B[0;34m\u001B[0m\u001B[0m\n",
      "\u001B[0;32m<ipython-input-8-da4a1571f99b>\u001B[0m in \u001B[0;36mnms\u001B[0;34m(boxes, scores, proposal_count, nms_threshold)\u001B[0m\n\u001B[1;32m     98\u001B[0m             \u001B[0mtf\u001B[0m\u001B[0;34m.\u001B[0m\u001B[0mTensorShape\u001B[0m\u001B[0;34m(\u001B[0m\u001B[0;34m[\u001B[0m\u001B[0;32mNone\u001B[0m\u001B[0;34m]\u001B[0m\u001B[0;34m)\u001B[0m\u001B[0;34m,\u001B[0m\u001B[0;34m\u001B[0m\u001B[0;34m\u001B[0m\u001B[0m\n\u001B[1;32m     99\u001B[0m             \u001B[0mnms_threshold\u001B[0m\u001B[0;34m.\u001B[0m\u001B[0mget_shape\u001B[0m\u001B[0;34m(\u001B[0m\u001B[0;34m)\u001B[0m\u001B[0;34m,\u001B[0m\u001B[0;34m\u001B[0m\u001B[0;34m\u001B[0m\u001B[0m\n\u001B[0;32m--> 100\u001B[0;31m             \u001B[0mtf\u001B[0m\u001B[0;34m.\u001B[0m\u001B[0mTensorShape\u001B[0m\u001B[0;34m(\u001B[0m\u001B[0;34m[\u001B[0m\u001B[0;32mNone\u001B[0m\u001B[0;34m,\u001B[0m \u001B[0;36m6\u001B[0m\u001B[0;34m]\u001B[0m\u001B[0;34m)\u001B[0m\u001B[0;34m\u001B[0m\u001B[0;34m\u001B[0m\u001B[0m\n\u001B[0m\u001B[1;32m    101\u001B[0m         ]\n\u001B[1;32m    102\u001B[0m     )\n",
      "\u001B[0;32m~/anaconda3/envs/tensorflow-3d-nms/lib/python3.7/site-packages/tensorflow_core/python/ops/control_flow_ops.py\u001B[0m in \u001B[0;36mwhile_loop\u001B[0;34m(cond, body, loop_vars, shape_invariants, parallel_iterations, back_prop, swap_memory, name, maximum_iterations, return_same_structure)\u001B[0m\n\u001B[1;32m   2712\u001B[0m                                               list(loop_vars))\n\u001B[1;32m   2713\u001B[0m       \u001B[0;32mwhile\u001B[0m \u001B[0mcond\u001B[0m\u001B[0;34m(\u001B[0m\u001B[0;34m*\u001B[0m\u001B[0mloop_vars\u001B[0m\u001B[0;34m)\u001B[0m\u001B[0;34m:\u001B[0m\u001B[0;34m\u001B[0m\u001B[0;34m\u001B[0m\u001B[0m\n\u001B[0;32m-> 2714\u001B[0;31m         \u001B[0mloop_vars\u001B[0m \u001B[0;34m=\u001B[0m \u001B[0mbody\u001B[0m\u001B[0;34m(\u001B[0m\u001B[0;34m*\u001B[0m\u001B[0mloop_vars\u001B[0m\u001B[0;34m)\u001B[0m\u001B[0;34m\u001B[0m\u001B[0;34m\u001B[0m\u001B[0m\n\u001B[0m\u001B[1;32m   2715\u001B[0m         \u001B[0;32mif\u001B[0m \u001B[0mtry_to_pack\u001B[0m \u001B[0;32mand\u001B[0m \u001B[0;32mnot\u001B[0m \u001B[0misinstance\u001B[0m\u001B[0;34m(\u001B[0m\u001B[0mloop_vars\u001B[0m\u001B[0;34m,\u001B[0m \u001B[0;34m(\u001B[0m\u001B[0mlist\u001B[0m\u001B[0;34m,\u001B[0m \u001B[0m_basetuple\u001B[0m\u001B[0;34m)\u001B[0m\u001B[0;34m)\u001B[0m\u001B[0;34m:\u001B[0m\u001B[0;34m\u001B[0m\u001B[0;34m\u001B[0m\u001B[0m\n\u001B[1;32m   2716\u001B[0m           \u001B[0mpacked\u001B[0m \u001B[0;34m=\u001B[0m \u001B[0;32mTrue\u001B[0m\u001B[0;34m\u001B[0m\u001B[0;34m\u001B[0m\u001B[0m\n",
      "\u001B[0;32m<ipython-input-8-da4a1571f99b>\u001B[0m in \u001B[0;36m<lambda>\u001B[0;34m(n, b, s, sa, t, p)\u001B[0m\n\u001B[1;32m     90\u001B[0m     number_of_processed, boxes, scores, sorted_args, nms_threshold, proposals = tf.while_loop(\n\u001B[1;32m     91\u001B[0m         \u001B[0;32mlambda\u001B[0m \u001B[0mn\u001B[0m\u001B[0;34m,\u001B[0m \u001B[0mb\u001B[0m\u001B[0;34m,\u001B[0m \u001B[0ms\u001B[0m\u001B[0;34m,\u001B[0m \u001B[0msa\u001B[0m\u001B[0;34m,\u001B[0m \u001B[0mt\u001B[0m\u001B[0;34m,\u001B[0m \u001B[0mp\u001B[0m\u001B[0;34m:\u001B[0m \u001B[0mtf\u001B[0m\u001B[0;34m.\u001B[0m\u001B[0mmath\u001B[0m\u001B[0;34m.\u001B[0m\u001B[0mlogical_or\u001B[0m\u001B[0;34m(\u001B[0m\u001B[0mn\u001B[0m \u001B[0;34m<\u001B[0m \u001B[0mboxes_size\u001B[0m\u001B[0;34m,\u001B[0m \u001B[0mtf\u001B[0m\u001B[0;34m.\u001B[0m\u001B[0mshape\u001B[0m\u001B[0;34m(\u001B[0m\u001B[0mp\u001B[0m\u001B[0;34m)\u001B[0m\u001B[0;34m[\u001B[0m\u001B[0;36m0\u001B[0m\u001B[0;34m]\u001B[0m \u001B[0;34m<\u001B[0m \u001B[0mproposal_count\u001B[0m\u001B[0;34m)\u001B[0m\u001B[0;34m,\u001B[0m\u001B[0;34m\u001B[0m\u001B[0;34m\u001B[0m\u001B[0m\n\u001B[0;32m---> 92\u001B[0;31m         \u001B[0;32mlambda\u001B[0m \u001B[0mn\u001B[0m\u001B[0;34m,\u001B[0m \u001B[0mb\u001B[0m\u001B[0;34m,\u001B[0m \u001B[0ms\u001B[0m\u001B[0;34m,\u001B[0m \u001B[0msa\u001B[0m\u001B[0;34m,\u001B[0m \u001B[0mt\u001B[0m\u001B[0;34m,\u001B[0m \u001B[0mp\u001B[0m\u001B[0;34m:\u001B[0m \u001B[0mnms_step\u001B[0m\u001B[0;34m(\u001B[0m\u001B[0mn\u001B[0m\u001B[0;34m,\u001B[0m \u001B[0mb\u001B[0m\u001B[0;34m,\u001B[0m \u001B[0ms\u001B[0m\u001B[0;34m,\u001B[0m \u001B[0msa\u001B[0m\u001B[0;34m,\u001B[0m \u001B[0mt\u001B[0m\u001B[0;34m,\u001B[0m \u001B[0mp\u001B[0m\u001B[0;34m)\u001B[0m\u001B[0;34m,\u001B[0m\u001B[0;34m\u001B[0m\u001B[0;34m\u001B[0m\u001B[0m\n\u001B[0m\u001B[1;32m     93\u001B[0m         \u001B[0;34m[\u001B[0m\u001B[0mnumber_of_processed\u001B[0m\u001B[0;34m,\u001B[0m \u001B[0mboxes\u001B[0m\u001B[0;34m,\u001B[0m \u001B[0mscores\u001B[0m\u001B[0;34m,\u001B[0m \u001B[0msorted_args\u001B[0m\u001B[0;34m,\u001B[0m \u001B[0mnms_threshold\u001B[0m\u001B[0;34m,\u001B[0m \u001B[0mproposals\u001B[0m\u001B[0;34m]\u001B[0m\u001B[0;34m,\u001B[0m\u001B[0;34m\u001B[0m\u001B[0;34m\u001B[0m\u001B[0m\n\u001B[1;32m     94\u001B[0m         shape_invariants=[\n",
      "\u001B[0;32m<ipython-input-8-da4a1571f99b>\u001B[0m in \u001B[0;36mnms_step\u001B[0;34m(n, boxes, scores, sorted_args, nms_threshold, proposals)\u001B[0m\n\u001B[1;32m     60\u001B[0m             \u001B[0mtf\u001B[0m\u001B[0;34m.\u001B[0m\u001B[0mTensorShape\u001B[0m\u001B[0;34m(\u001B[0m\u001B[0;34m[\u001B[0m\u001B[0;32mNone\u001B[0m\u001B[0;34m]\u001B[0m\u001B[0;34m)\u001B[0m\u001B[0;34m,\u001B[0m\u001B[0;34m\u001B[0m\u001B[0;34m\u001B[0m\u001B[0m\n\u001B[1;32m     61\u001B[0m             \u001B[0mtf\u001B[0m\u001B[0;34m.\u001B[0m\u001B[0mTensorShape\u001B[0m\u001B[0;34m(\u001B[0m\u001B[0;34m[\u001B[0m\u001B[0;32mNone\u001B[0m\u001B[0;34m]\u001B[0m\u001B[0;34m)\u001B[0m\u001B[0;34m,\u001B[0m\u001B[0;34m\u001B[0m\u001B[0;34m\u001B[0m\u001B[0m\n\u001B[0;32m---> 62\u001B[0;31m             \u001B[0mnms_threshold\u001B[0m\u001B[0;34m.\u001B[0m\u001B[0mget_shape\u001B[0m\u001B[0;34m(\u001B[0m\u001B[0;34m)\u001B[0m\u001B[0;34m\u001B[0m\u001B[0;34m\u001B[0m\u001B[0m\n\u001B[0m\u001B[1;32m     63\u001B[0m         ]\n\u001B[1;32m     64\u001B[0m     )\n",
      "\u001B[0;32m~/anaconda3/envs/tensorflow-3d-nms/lib/python3.7/site-packages/tensorflow_core/python/ops/control_flow_ops.py\u001B[0m in \u001B[0;36mwhile_loop\u001B[0;34m(cond, body, loop_vars, shape_invariants, parallel_iterations, back_prop, swap_memory, name, maximum_iterations, return_same_structure)\u001B[0m\n\u001B[1;32m   2712\u001B[0m                                               list(loop_vars))\n\u001B[1;32m   2713\u001B[0m       \u001B[0;32mwhile\u001B[0m \u001B[0mcond\u001B[0m\u001B[0;34m(\u001B[0m\u001B[0;34m*\u001B[0m\u001B[0mloop_vars\u001B[0m\u001B[0;34m)\u001B[0m\u001B[0;34m:\u001B[0m\u001B[0;34m\u001B[0m\u001B[0;34m\u001B[0m\u001B[0m\n\u001B[0;32m-> 2714\u001B[0;31m         \u001B[0mloop_vars\u001B[0m \u001B[0;34m=\u001B[0m \u001B[0mbody\u001B[0m\u001B[0;34m(\u001B[0m\u001B[0;34m*\u001B[0m\u001B[0mloop_vars\u001B[0m\u001B[0;34m)\u001B[0m\u001B[0;34m\u001B[0m\u001B[0;34m\u001B[0m\u001B[0m\n\u001B[0m\u001B[1;32m   2715\u001B[0m         \u001B[0;32mif\u001B[0m \u001B[0mtry_to_pack\u001B[0m \u001B[0;32mand\u001B[0m \u001B[0;32mnot\u001B[0m \u001B[0misinstance\u001B[0m\u001B[0;34m(\u001B[0m\u001B[0mloop_vars\u001B[0m\u001B[0;34m,\u001B[0m \u001B[0;34m(\u001B[0m\u001B[0mlist\u001B[0m\u001B[0;34m,\u001B[0m \u001B[0m_basetuple\u001B[0m\u001B[0;34m)\u001B[0m\u001B[0;34m)\u001B[0m\u001B[0;34m:\u001B[0m\u001B[0;34m\u001B[0m\u001B[0;34m\u001B[0m\u001B[0m\n\u001B[1;32m   2716\u001B[0m           \u001B[0mpacked\u001B[0m \u001B[0;34m=\u001B[0m \u001B[0;32mTrue\u001B[0m\u001B[0;34m\u001B[0m\u001B[0;34m\u001B[0m\u001B[0m\n",
      "\u001B[0;32m<ipython-input-8-da4a1571f99b>\u001B[0m in \u001B[0;36m<lambda>\u001B[0;34m(n, b, s, h, t)\u001B[0m\n\u001B[1;32m     47\u001B[0m     (n_internal, boxes, scores, highest_score_box, nms_threshold) = tf.while_loop(\n\u001B[1;32m     48\u001B[0m         \u001B[0;32mlambda\u001B[0m \u001B[0mn\u001B[0m\u001B[0;34m,\u001B[0m \u001B[0mb\u001B[0m\u001B[0;34m,\u001B[0m \u001B[0ms\u001B[0m\u001B[0;34m,\u001B[0m \u001B[0mh\u001B[0m\u001B[0;34m,\u001B[0m \u001B[0mt\u001B[0m\u001B[0;34m:\u001B[0m \u001B[0mn\u001B[0m \u001B[0;34m<\u001B[0m \u001B[0mboxes_size\u001B[0m\u001B[0;34m,\u001B[0m\u001B[0;34m\u001B[0m\u001B[0;34m\u001B[0m\u001B[0m\n\u001B[0;32m---> 49\u001B[0;31m         \u001B[0;32mlambda\u001B[0m \u001B[0mn\u001B[0m\u001B[0;34m,\u001B[0m \u001B[0mb\u001B[0m\u001B[0;34m,\u001B[0m \u001B[0ms\u001B[0m\u001B[0;34m,\u001B[0m \u001B[0mh\u001B[0m\u001B[0;34m,\u001B[0m \u001B[0mt\u001B[0m\u001B[0;34m:\u001B[0m \u001B[0miou_evaluation\u001B[0m\u001B[0;34m(\u001B[0m\u001B[0mn\u001B[0m\u001B[0;34m,\u001B[0m \u001B[0mb\u001B[0m\u001B[0;34m,\u001B[0m \u001B[0ms\u001B[0m\u001B[0;34m,\u001B[0m \u001B[0mh\u001B[0m\u001B[0;34m,\u001B[0m \u001B[0mt\u001B[0m\u001B[0;34m)\u001B[0m\u001B[0;34m,\u001B[0m\u001B[0;34m\u001B[0m\u001B[0;34m\u001B[0m\u001B[0m\n\u001B[0m\u001B[1;32m     50\u001B[0m         [\n\u001B[1;32m     51\u001B[0m             \u001B[0mnumber_of_processed\u001B[0m\u001B[0;34m,\u001B[0m\u001B[0;34m\u001B[0m\u001B[0;34m\u001B[0m\u001B[0m\n",
      "\u001B[0;32m<ipython-input-8-da4a1571f99b>\u001B[0m in \u001B[0;36miou_evaluation\u001B[0;34m(n, boxes, scores, highest_score_box, nms_threshold)\u001B[0m\n\u001B[1;32m     22\u001B[0m \u001B[0;34m\u001B[0m\u001B[0m\n\u001B[1;32m     23\u001B[0m \u001B[0;32mdef\u001B[0m \u001B[0miou_evaluation\u001B[0m\u001B[0;34m(\u001B[0m\u001B[0mn\u001B[0m\u001B[0;34m,\u001B[0m \u001B[0mboxes\u001B[0m\u001B[0;34m,\u001B[0m \u001B[0mscores\u001B[0m\u001B[0;34m,\u001B[0m \u001B[0mhighest_score_box\u001B[0m\u001B[0;34m,\u001B[0m \u001B[0mnms_threshold\u001B[0m\u001B[0;34m)\u001B[0m\u001B[0;34m:\u001B[0m\u001B[0;34m\u001B[0m\u001B[0;34m\u001B[0m\u001B[0m\n\u001B[0;32m---> 24\u001B[0;31m     \u001B[0miou_value\u001B[0m \u001B[0;34m=\u001B[0m \u001B[0miou\u001B[0m\u001B[0;34m(\u001B[0m\u001B[0mhighest_score_box\u001B[0m\u001B[0;34m,\u001B[0m \u001B[0mboxes\u001B[0m\u001B[0;34m[\u001B[0m\u001B[0mn\u001B[0m\u001B[0;34m]\u001B[0m\u001B[0;34m)\u001B[0m\u001B[0;34m\u001B[0m\u001B[0;34m\u001B[0m\u001B[0m\n\u001B[0m\u001B[1;32m     25\u001B[0m     \u001B[0mprint\u001B[0m\u001B[0;34m(\u001B[0m\u001B[0;34m\"IOU evaluation start\"\u001B[0m\u001B[0;34m)\u001B[0m\u001B[0;34m\u001B[0m\u001B[0;34m\u001B[0m\u001B[0m\n\u001B[1;32m     26\u001B[0m     \u001B[0mprint\u001B[0m\u001B[0;34m(\u001B[0m\u001B[0mn\u001B[0m\u001B[0;34m)\u001B[0m\u001B[0;34m\u001B[0m\u001B[0;34m\u001B[0m\u001B[0m\n",
      "\u001B[0;32m~/anaconda3/envs/tensorflow-3d-nms/lib/python3.7/site-packages/tensorflow_core/python/ops/array_ops.py\u001B[0m in \u001B[0;36m_slice_helper\u001B[0;34m(tensor, slice_spec, var)\u001B[0m\n\u001B[1;32m    800\u001B[0m         \u001B[0mellipsis_mask\u001B[0m\u001B[0;34m=\u001B[0m\u001B[0mellipsis_mask\u001B[0m\u001B[0;34m,\u001B[0m\u001B[0;34m\u001B[0m\u001B[0;34m\u001B[0m\u001B[0m\n\u001B[1;32m    801\u001B[0m         \u001B[0mvar\u001B[0m\u001B[0;34m=\u001B[0m\u001B[0mvar\u001B[0m\u001B[0;34m,\u001B[0m\u001B[0;34m\u001B[0m\u001B[0;34m\u001B[0m\u001B[0m\n\u001B[0;32m--> 802\u001B[0;31m         name=name)\n\u001B[0m\u001B[1;32m    803\u001B[0m \u001B[0;34m\u001B[0m\u001B[0m\n\u001B[1;32m    804\u001B[0m \u001B[0;34m\u001B[0m\u001B[0m\n",
      "\u001B[0;32m~/anaconda3/envs/tensorflow-3d-nms/lib/python3.7/site-packages/tensorflow_core/python/ops/array_ops.py\u001B[0m in \u001B[0;36mstrided_slice\u001B[0;34m(input_, begin, end, strides, begin_mask, end_mask, ellipsis_mask, new_axis_mask, shrink_axis_mask, var, name)\u001B[0m\n\u001B[1;32m    966\u001B[0m       \u001B[0mellipsis_mask\u001B[0m\u001B[0;34m=\u001B[0m\u001B[0mellipsis_mask\u001B[0m\u001B[0;34m,\u001B[0m\u001B[0;34m\u001B[0m\u001B[0;34m\u001B[0m\u001B[0m\n\u001B[1;32m    967\u001B[0m       \u001B[0mnew_axis_mask\u001B[0m\u001B[0;34m=\u001B[0m\u001B[0mnew_axis_mask\u001B[0m\u001B[0;34m,\u001B[0m\u001B[0;34m\u001B[0m\u001B[0;34m\u001B[0m\u001B[0m\n\u001B[0;32m--> 968\u001B[0;31m       shrink_axis_mask=shrink_axis_mask)\n\u001B[0m\u001B[1;32m    969\u001B[0m \u001B[0;34m\u001B[0m\u001B[0m\n\u001B[1;32m    970\u001B[0m   \u001B[0mparent_name\u001B[0m \u001B[0;34m=\u001B[0m \u001B[0mname\u001B[0m\u001B[0;34m\u001B[0m\u001B[0;34m\u001B[0m\u001B[0m\n",
      "\u001B[0;32m~/anaconda3/envs/tensorflow-3d-nms/lib/python3.7/site-packages/tensorflow_core/python/ops/gen_array_ops.py\u001B[0m in \u001B[0;36mstrided_slice\u001B[0;34m(input, begin, end, strides, begin_mask, end_mask, ellipsis_mask, new_axis_mask, shrink_axis_mask, name)\u001B[0m\n\u001B[1;32m  10368\u001B[0m       \u001B[0;32melse\u001B[0m\u001B[0;34m:\u001B[0m\u001B[0;34m\u001B[0m\u001B[0;34m\u001B[0m\u001B[0m\n\u001B[1;32m  10369\u001B[0m         \u001B[0mmessage\u001B[0m \u001B[0;34m=\u001B[0m \u001B[0me\u001B[0m\u001B[0;34m.\u001B[0m\u001B[0mmessage\u001B[0m\u001B[0;34m\u001B[0m\u001B[0;34m\u001B[0m\u001B[0m\n\u001B[0;32m> 10370\u001B[0;31m       \u001B[0m_six\u001B[0m\u001B[0;34m.\u001B[0m\u001B[0mraise_from\u001B[0m\u001B[0;34m(\u001B[0m\u001B[0m_core\u001B[0m\u001B[0;34m.\u001B[0m\u001B[0m_status_to_exception\u001B[0m\u001B[0;34m(\u001B[0m\u001B[0me\u001B[0m\u001B[0;34m.\u001B[0m\u001B[0mcode\u001B[0m\u001B[0;34m,\u001B[0m \u001B[0mmessage\u001B[0m\u001B[0;34m)\u001B[0m\u001B[0;34m,\u001B[0m \u001B[0;32mNone\u001B[0m\u001B[0;34m)\u001B[0m\u001B[0;34m\u001B[0m\u001B[0;34m\u001B[0m\u001B[0m\n\u001B[0m\u001B[1;32m  10371\u001B[0m   \u001B[0;31m# Add nodes to the TensorFlow graph.\u001B[0m\u001B[0;34m\u001B[0m\u001B[0;34m\u001B[0m\u001B[0;34m\u001B[0m\u001B[0m\n\u001B[1;32m  10372\u001B[0m   \u001B[0;32mif\u001B[0m \u001B[0mbegin_mask\u001B[0m \u001B[0;32mis\u001B[0m \u001B[0;32mNone\u001B[0m\u001B[0;34m:\u001B[0m\u001B[0;34m\u001B[0m\u001B[0;34m\u001B[0m\u001B[0m\n",
      "\u001B[0;32m~/anaconda3/envs/tensorflow-3d-nms/lib/python3.7/site-packages/six.py\u001B[0m in \u001B[0;36mraise_from\u001B[0;34m(value, from_value)\u001B[0m\n",
      "\u001B[0;31mInvalidArgumentError\u001B[0m: slice index 2 of dimension 0 out of bounds. [Op:StridedSlice] name: while/while/strided_slice/"
     ]
    }
   ],
   "source": [
    "import sys\n",
    "import numpy as np\n",
    "\n",
    "\n",
    "def iou(a, b):\n",
    "    print(\"A:\", a)\n",
    "    print(\"B:\", b)\n",
    "    zA = tf.maximum(a[0], b[0])\n",
    "    yA = tf.maximum(a[1], b[1])\n",
    "    xA = tf.maximum(a[2], b[2])\n",
    "    zB = tf.maximum(a[3], b[3])\n",
    "    yB = tf.maximum(a[4], b[4])\n",
    "    xB = tf.maximum(a[5], b[5])\n",
    "\n",
    "    interArea = tf.maximum(0, xB - xA) * tf.maximum(0, yB - yA) * tf.maximum(0, zB - zA)\n",
    "\n",
    "    boxAArea = (a[3] - a[0]) * (a[4] - a[1]) * (a[5] - a[2])\n",
    "    boxBArea = (b[3] - b[0]) * (b[4] - b[1]) * (b[5] - b[2])\n",
    "\n",
    "    return interArea / (boxAArea + boxBArea - interArea)\n",
    "\n",
    "\n",
    "def iou_evaluation(n, boxes, scores, highest_score_box, nms_threshold):\n",
    "    iou_value = iou(highest_score_box, boxes[n])\n",
    "    print(\"IOU evaluation start\")\n",
    "    print(n)\n",
    "    print(boxes)\n",
    "    print(scores)\n",
    "    print(\"IOU evaluation end\")\n",
    "    (boxes, scores) = tf.cond(\n",
    "        tf.greater(iou_value, nms_threshold),\n",
    "        lambda: (\n",
    "            tf.concat([boxes[:n], boxes[n + 1:]], 0),\n",
    "            tf.concat([scores[:n], scores[n + 1:]], 0)\n",
    "        ),\n",
    "        lambda: (boxes, scores)\n",
    "    )\n",
    "    return [tf.add(n, 1), boxes, scores, highest_score_box, nms_threshold]\n",
    "\n",
    "\n",
    "def nms_step(n, boxes, scores, sorted_args, nms_threshold, proposals):\n",
    "    highest_score_arg = sorted_args[0]\n",
    "    highest_score_box = boxes[highest_score_arg]\n",
    "    print(highest_score_box)\n",
    "    number_of_processed = tf.constant(0)\n",
    "    boxes_size = tf.shape(boxes)[0]\n",
    "    (n_internal, boxes, scores, highest_score_box, nms_threshold) = tf.while_loop(\n",
    "        lambda n, b, s, h, t: n < boxes_size,\n",
    "        lambda n, b, s, h, t: iou_evaluation(n, b, s, h, t),\n",
    "        [\n",
    "            number_of_processed,\n",
    "            tf.concat([boxes[:highest_score_arg], boxes[highest_score_arg + 1:]], 0),\n",
    "            tf.concat([scores[:highest_score_arg], scores[highest_score_arg + 1:]], 0),\n",
    "            highest_score_box,\n",
    "            nms_threshold\n",
    "        ],\n",
    "        shape_invariants=[\n",
    "            number_of_processed.get_shape(),\n",
    "            tf.TensorShape([None, 6]),\n",
    "            tf.TensorShape([None]),\n",
    "            tf.TensorShape([None]),\n",
    "            nms_threshold.get_shape()\n",
    "        ]\n",
    "    )\n",
    "    return [\n",
    "        tf.add(n, 1),\n",
    "        boxes,\n",
    "        scores,\n",
    "        sorted_args,\n",
    "        nms_threshold,\n",
    "        tf.concat([proposals, [tf.cast(highest_score_box, tf.float32)]], 0)\n",
    "    ]\n",
    "\n",
    "\n",
    "def nms(boxes, scores, proposal_count=4, nms_threshold=0.5):\n",
    "    print(boxes)\n",
    "    print(scores)\n",
    "    print(proposal_count)\n",
    "    print(nms_threshold)\n",
    "\n",
    "    number_of_processed = tf.constant(0)\n",
    "    boxes_size = tf.shape(boxes)[0]\n",
    "    sorted_args = tf.argsort(scores, direction='DESCENDING')\n",
    "    nms_threshold = tf.constant(nms_threshold, dtype=tf.float64)\n",
    "\n",
    "    proposals = tf.Variable(np.empty((1, 6), dtype=np.float32))\n",
    "\n",
    "    tf.print(boxes, output_stream=sys.stdout)\n",
    "\n",
    "    number_of_processed, boxes, scores, sorted_args, nms_threshold, proposals = tf.while_loop(\n",
    "        lambda n, b, s, sa, t, p: tf.math.logical_or(n < boxes_size, tf.shape(p)[0] < proposal_count),\n",
    "        lambda n, b, s, sa, t, p: nms_step(n, b, s, sa, t, p),\n",
    "        [number_of_processed, boxes, scores, sorted_args, nms_threshold, proposals],\n",
    "        shape_invariants=[\n",
    "            number_of_processed.get_shape(),\n",
    "            tf.TensorShape([None, 6]),\n",
    "            tf.TensorShape([None]),\n",
    "            tf.TensorShape([None]),\n",
    "            nms_threshold.get_shape(),\n",
    "            tf.TensorShape([None, 6])\n",
    "        ]\n",
    "    )\n",
    "\n",
    "    return proposals\n",
    "\n",
    "proposals = nms(boxes, scores)\n",
    "# proposals = nms(boxes, scores).numpy()\n"
   ],
   "metadata": {
    "collapsed": false,
    "pycharm": {
     "name": "#%%\n"
    }
   }
  },
  {
   "cell_type": "code",
   "execution_count": null,
   "outputs": [],
   "source": [
    "init_op = tf.global_variables_initializer()\n",
    "\n",
    "with tf.Session() as sess:\n",
    "  sess.run(init_op)\n",
    "  proposals_value = proposals.eval()"
   ],
   "metadata": {
    "collapsed": false,
    "pycharm": {
     "name": "#%%\n"
    }
   }
  },
  {
   "cell_type": "code",
   "execution_count": null,
   "outputs": [],
   "source": [
    "a = [1, 2, 3, 4, 5, 6]\n",
    "a[:5] + a[5 + 1:]"
   ],
   "metadata": {
    "collapsed": false,
    "pycharm": {
     "name": "#%%\n"
    }
   }
  },
  {
   "cell_type": "code",
   "execution_count": null,
   "outputs": [],
   "source": [],
   "metadata": {
    "collapsed": false,
    "pycharm": {
     "name": "#%%\n"
    }
   }
  }
 ],
 "metadata": {
  "kernelspec": {
   "name": "python3",
   "language": "python",
   "display_name": "Python 3"
  },
  "language_info": {
   "codemirror_mode": {
    "name": "ipython",
    "version": 2
   },
   "file_extension": ".py",
   "mimetype": "text/x-python",
   "name": "python",
   "nbconvert_exporter": "python",
   "pygments_lexer": "ipython2",
   "version": "2.7.6"
  }
 },
 "nbformat": 4,
 "nbformat_minor": 0
}