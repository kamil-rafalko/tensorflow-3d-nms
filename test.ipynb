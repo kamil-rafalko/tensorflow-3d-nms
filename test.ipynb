{
 "cells": [
  {
   "cell_type": "code",
   "execution_count": 1,
   "metadata": {
    "collapsed": true,
    "pycharm": {
     "name": "#%%\n"
    }
   },
   "outputs": [],
   "source": [
    "# import numpy as np\n",
    "#\n",
    "# # z1, y1, x1, z2, y2, x2\n",
    "# a = np.array([0, 0, 1, 6, 7, 9])\n",
    "# b = np.array([2, 5, 3, 10, 10, 10])\n",
    "#\n",
    "# zA = max(a[0], b[0])\n",
    "# yA = max(a[1], b[1])\n",
    "# xA = max(a[2], b[2])\n",
    "# zB = max(a[3], b[3])\n",
    "# yB = max(a[4], b[4])\n",
    "# xB = max(a[5], b[5])\n",
    "#\n",
    "# interArea = max(0, xB - xA) * max(0, yB - yA) * max(0, zB - zA)\n",
    "#\n",
    "# boxAArea = (a[3] - a[0]) * (a[4] - a[1]) * (a[5] - a[2])\n",
    "# boxBArea = (b[3] - b[0]) * (b[4] - b[1]) * (b[5] - b[2])\n",
    "#\n",
    "# iou = interArea / float(boxAArea + boxBArea - interArea)"
   ]
  },
  {
   "cell_type": "code",
   "execution_count": 2,
   "outputs": [],
   "source": [
    "def iou(a, b):\n",
    "    zA = tf.maximum(a[0], b[0])\n",
    "    yA = tf.maximum(a[1], b[1])\n",
    "    xA = tf.maximum(a[2], b[2])\n",
    "    zB = tf.maximum(a[3], b[3])\n",
    "    yB = tf.maximum(a[4], b[4])\n",
    "    xB = tf.maximum(a[5], b[5])\n",
    "\n",
    "    interArea = tf.maximum(0, xB - xA) * tf.maximum(0, yB - yA) * tf.maximum(0, zB - zA)\n",
    "\n",
    "    boxAArea = (a[3] - a[0]) * (a[4] - a[1]) * (a[5] - a[2])\n",
    "    boxBArea = (b[3] - b[0]) * (b[4] - b[1]) * (b[5] - b[2])\n",
    "\n",
    "    return interArea / (boxAArea + boxBArea - interArea)\n"
   ],
   "metadata": {
    "collapsed": false,
    "pycharm": {
     "name": "#%%\n"
    }
   }
  },
  {
   "cell_type": "code",
   "execution_count": 3,
   "outputs": [],
   "source": [
    "import tensorflow as tf\n",
    "\n",
    "a = tf.constant([0, 0, 1, 6, 7, 9])\n",
    "b = tf.constant([2, 5, 3, 10, 10, 10])\n",
    "\n",
    "iou = iou(a, b)\n",
    "\n",
    "init_op = tf.global_variables_initializer()\n",
    "\n",
    "with tf.Session() as sess:\n",
    "  sess.run(init_op)\n",
    "  iou_value = iou.eval()"
   ],
   "metadata": {
    "collapsed": false,
    "pycharm": {
     "name": "#%%\n"
    }
   }
  },
  {
   "cell_type": "code",
   "execution_count": 4,
   "outputs": [
    {
     "data": {
      "text/plain": "<tf.Tensor 'concat:0' shape=(6,) dtype=int32>"
     },
     "execution_count": 4,
     "metadata": {},
     "output_type": "execute_result"
    }
   ],
   "source": [
    "tf.concat([a[:2], a[2:]], 0)"
   ],
   "metadata": {
    "collapsed": false,
    "pycharm": {
     "name": "#%%\n"
    }
   }
  },
  {
   "cell_type": "code",
   "execution_count": 5,
   "outputs": [],
   "source": [
    "boxes = tf.constant([\n",
    "    [0, 0, 1, 6, 7, 9],\n",
    "    [2, 5, 3, 10, 10, 10],\n",
    "    [20, 50, 30, 100, 100, 100],\n",
    "    [21, 40, 10, 330, 350, 360]\n",
    "    ]\n",
    ")\n",
    "\n",
    "scores = tf.constant([\n",
    "    0.2,\n",
    "    0.4,\n",
    "    0.1,\n",
    "    0.6\n",
    "])\n",
    "\n",
    "boxes_prym = boxes[1:, :]"
   ],
   "metadata": {
    "collapsed": false,
    "pycharm": {
     "name": "#%%\n"
    }
   }
  },
  {
   "cell_type": "code",
   "execution_count": 8,
   "outputs": [
    {
     "name": "stdout",
     "output_type": "stream",
     "text": [
      "Tensor(\"Const_2:0\", shape=(4, 6), dtype=int32)\n",
      "Tensor(\"Const_3:0\", shape=(4,), dtype=float32)\n",
      "4\n",
      "0.5\n"
     ]
    },
    {
     "ename": "ValueError",
     "evalue": "The shape invariant specified for Const_11:0 is not compatible with the initial shape of the loop variable. It enters the loop with shape (0,), but the specified shape invariant is (?, ?).",
     "output_type": "error",
     "traceback": [
      "\u001B[0;31m---------------------------------------------------------------------------\u001B[0m",
      "\u001B[0;31mValueError\u001B[0m                                Traceback (most recent call last)",
      "\u001B[0;32m<ipython-input-8-213ce9588695>\u001B[0m in \u001B[0;36m<module>\u001B[0;34m\u001B[0m\n\u001B[1;32m     84\u001B[0m     )\n\u001B[1;32m     85\u001B[0m \u001B[0;34m\u001B[0m\u001B[0m\n\u001B[0;32m---> 86\u001B[0;31m \u001B[0mnms\u001B[0m\u001B[0;34m(\u001B[0m\u001B[0mboxes\u001B[0m\u001B[0;34m,\u001B[0m \u001B[0mscores\u001B[0m\u001B[0;34m)\u001B[0m\u001B[0;34m\u001B[0m\u001B[0;34m\u001B[0m\u001B[0m\n\u001B[0m\u001B[1;32m     87\u001B[0m \u001B[0;34m\u001B[0m\u001B[0m\n\u001B[1;32m     88\u001B[0m \u001B[0;34m\u001B[0m\u001B[0m\n",
      "\u001B[0;32m<ipython-input-8-213ce9588695>\u001B[0m in \u001B[0;36mnms\u001B[0;34m(boxes, scores, proposal_count, nms_threshold)\u001B[0m\n\u001B[1;32m     80\u001B[0m             \u001B[0mtf\u001B[0m\u001B[0;34m.\u001B[0m\u001B[0mTensorShape\u001B[0m\u001B[0;34m(\u001B[0m\u001B[0;34m[\u001B[0m\u001B[0;32mNone\u001B[0m\u001B[0;34m]\u001B[0m\u001B[0;34m)\u001B[0m\u001B[0;34m,\u001B[0m\u001B[0;34m\u001B[0m\u001B[0;34m\u001B[0m\u001B[0m\n\u001B[1;32m     81\u001B[0m             \u001B[0mnms_threshold\u001B[0m\u001B[0;34m.\u001B[0m\u001B[0mget_shape\u001B[0m\u001B[0;34m(\u001B[0m\u001B[0;34m)\u001B[0m\u001B[0;34m,\u001B[0m\u001B[0;34m\u001B[0m\u001B[0;34m\u001B[0m\u001B[0m\n\u001B[0;32m---> 82\u001B[0;31m             \u001B[0mtf\u001B[0m\u001B[0;34m.\u001B[0m\u001B[0mTensorShape\u001B[0m\u001B[0;34m(\u001B[0m\u001B[0;34m[\u001B[0m\u001B[0;32mNone\u001B[0m\u001B[0;34m,\u001B[0m \u001B[0;32mNone\u001B[0m\u001B[0;34m]\u001B[0m\u001B[0;34m)\u001B[0m\u001B[0;34m\u001B[0m\u001B[0;34m\u001B[0m\u001B[0m\n\u001B[0m\u001B[1;32m     83\u001B[0m         ]\n\u001B[1;32m     84\u001B[0m     )\n",
      "\u001B[0;32m~/opt/anaconda3/envs/tensorflow-3d-nms/lib/python3.7/site-packages/tensorflow_core/python/ops/control_flow_ops.py\u001B[0m in \u001B[0;36mwhile_loop\u001B[0;34m(cond, body, loop_vars, shape_invariants, parallel_iterations, back_prop, swap_memory, name, maximum_iterations, return_same_structure)\u001B[0m\n\u001B[1;32m   2751\u001B[0m       \u001B[0mops\u001B[0m\u001B[0;34m.\u001B[0m\u001B[0madd_to_collection\u001B[0m\u001B[0;34m(\u001B[0m\u001B[0mops\u001B[0m\u001B[0;34m.\u001B[0m\u001B[0mGraphKeys\u001B[0m\u001B[0;34m.\u001B[0m\u001B[0mWHILE_CONTEXT\u001B[0m\u001B[0;34m,\u001B[0m \u001B[0mloop_context\u001B[0m\u001B[0;34m)\u001B[0m\u001B[0;34m\u001B[0m\u001B[0;34m\u001B[0m\u001B[0m\n\u001B[1;32m   2752\u001B[0m     result = loop_context.BuildLoop(cond, body, loop_vars, shape_invariants,\n\u001B[0;32m-> 2753\u001B[0;31m                                     return_same_structure)\n\u001B[0m\u001B[1;32m   2754\u001B[0m     \u001B[0;32mif\u001B[0m \u001B[0mmaximum_iterations\u001B[0m \u001B[0;32mis\u001B[0m \u001B[0;32mnot\u001B[0m \u001B[0;32mNone\u001B[0m\u001B[0;34m:\u001B[0m\u001B[0;34m\u001B[0m\u001B[0;34m\u001B[0m\u001B[0m\n\u001B[1;32m   2755\u001B[0m       \u001B[0;32mreturn\u001B[0m \u001B[0mresult\u001B[0m\u001B[0;34m[\u001B[0m\u001B[0;36m1\u001B[0m\u001B[0;34m]\u001B[0m\u001B[0;34m\u001B[0m\u001B[0;34m\u001B[0m\u001B[0m\n",
      "\u001B[0;32m~/opt/anaconda3/envs/tensorflow-3d-nms/lib/python3.7/site-packages/tensorflow_core/python/ops/control_flow_ops.py\u001B[0m in \u001B[0;36mBuildLoop\u001B[0;34m(self, pred, body, loop_vars, shape_invariants, return_same_structure)\u001B[0m\n\u001B[1;32m   2243\u001B[0m       \u001B[0;32mwith\u001B[0m \u001B[0mops\u001B[0m\u001B[0;34m.\u001B[0m\u001B[0mget_default_graph\u001B[0m\u001B[0;34m(\u001B[0m\u001B[0;34m)\u001B[0m\u001B[0;34m.\u001B[0m\u001B[0m_mutation_lock\u001B[0m\u001B[0;34m(\u001B[0m\u001B[0;34m)\u001B[0m\u001B[0;34m:\u001B[0m  \u001B[0;31m# pylint: disable=protected-access\u001B[0m\u001B[0;34m\u001B[0m\u001B[0;34m\u001B[0m\u001B[0m\n\u001B[1;32m   2244\u001B[0m         original_body_result, exit_vars = self._BuildLoop(\n\u001B[0;32m-> 2245\u001B[0;31m             pred, body, original_loop_vars, loop_vars, shape_invariants)\n\u001B[0m\u001B[1;32m   2246\u001B[0m     \u001B[0;32mfinally\u001B[0m\u001B[0;34m:\u001B[0m\u001B[0;34m\u001B[0m\u001B[0;34m\u001B[0m\u001B[0m\n\u001B[1;32m   2247\u001B[0m       \u001B[0mself\u001B[0m\u001B[0;34m.\u001B[0m\u001B[0mExit\u001B[0m\u001B[0;34m(\u001B[0m\u001B[0;34m)\u001B[0m\u001B[0;34m\u001B[0m\u001B[0;34m\u001B[0m\u001B[0m\n",
      "\u001B[0;32m~/opt/anaconda3/envs/tensorflow-3d-nms/lib/python3.7/site-packages/tensorflow_core/python/ops/control_flow_ops.py\u001B[0m in \u001B[0;36m_BuildLoop\u001B[0;34m(self, pred, body, original_loop_vars, loop_vars, shape_invariants)\u001B[0m\n\u001B[1;32m   2135\u001B[0m           \u001B[0mvar\u001B[0m\u001B[0;34m.\u001B[0m\u001B[0mop\u001B[0m\u001B[0;34m.\u001B[0m\u001B[0m_add_control_input\u001B[0m\u001B[0;34m(\u001B[0m\u001B[0mcontrol_pivot\u001B[0m\u001B[0;34m.\u001B[0m\u001B[0mop\u001B[0m\u001B[0;34m)\u001B[0m\u001B[0;34m\u001B[0m\u001B[0;34m\u001B[0m\u001B[0m\n\u001B[1;32m   2136\u001B[0m           \u001B[0;31m# pylint: enable=protected-access\u001B[0m\u001B[0;34m\u001B[0m\u001B[0;34m\u001B[0m\u001B[0;34m\u001B[0m\u001B[0m\n\u001B[0;32m-> 2137\u001B[0;31m     \u001B[0m_SetShapeInvariants\u001B[0m\u001B[0;34m(\u001B[0m\u001B[0mreal_vars\u001B[0m\u001B[0;34m,\u001B[0m \u001B[0menter_vars\u001B[0m\u001B[0;34m,\u001B[0m \u001B[0mshape_invariants\u001B[0m\u001B[0;34m)\u001B[0m\u001B[0;34m\u001B[0m\u001B[0;34m\u001B[0m\u001B[0m\n\u001B[0m\u001B[1;32m   2138\u001B[0m \u001B[0;34m\u001B[0m\u001B[0m\n\u001B[1;32m   2139\u001B[0m     \u001B[0;31m# Fix the control inputs and control flow context of these enter ops.\u001B[0m\u001B[0;34m\u001B[0m\u001B[0;34m\u001B[0m\u001B[0;34m\u001B[0m\u001B[0m\n",
      "\u001B[0;32m~/opt/anaconda3/envs/tensorflow-3d-nms/lib/python3.7/site-packages/tensorflow_core/python/ops/control_flow_ops.py\u001B[0m in \u001B[0;36m_SetShapeInvariants\u001B[0;34m(input_vars, enter_vars, shapes)\u001B[0m\n\u001B[1;32m    554\u001B[0m             \u001B[0;34m\"the initial shape of the loop variable. It enters the loop \"\u001B[0m\u001B[0;34m\u001B[0m\u001B[0;34m\u001B[0m\u001B[0m\n\u001B[1;32m    555\u001B[0m             \u001B[0;34m\"with shape %s, but the specified shape invariant is %s.\"\u001B[0m \u001B[0;34m%\u001B[0m\u001B[0;34m\u001B[0m\u001B[0;34m\u001B[0m\u001B[0m\n\u001B[0;32m--> 556\u001B[0;31m             (inp.name, inp.get_shape(), shape))\n\u001B[0m\u001B[1;32m    557\u001B[0m       \u001B[0mvar\u001B[0m\u001B[0;34m.\u001B[0m\u001B[0mset_shape\u001B[0m\u001B[0;34m(\u001B[0m\u001B[0mshape\u001B[0m\u001B[0;34m)\u001B[0m\u001B[0;34m\u001B[0m\u001B[0;34m\u001B[0m\u001B[0m\n\u001B[1;32m    558\u001B[0m     \u001B[0;32melse\u001B[0m\u001B[0;34m:\u001B[0m\u001B[0;34m\u001B[0m\u001B[0;34m\u001B[0m\u001B[0m\n",
      "\u001B[0;31mValueError\u001B[0m: The shape invariant specified for Const_11:0 is not compatible with the initial shape of the loop variable. It enters the loop with shape (0,), but the specified shape invariant is (?, ?)."
     ]
    }
   ],
   "source": [
    "import numpy as np\n",
    "\n",
    "def iou(a, b):\n",
    "    zA = tf.maximum(a[0], b[0])\n",
    "    yA = tf.maximum(a[1], b[1])\n",
    "    xA = tf.maximum(a[2], b[2])\n",
    "    zB = tf.maximum(a[3], b[3])\n",
    "    yB = tf.maximum(a[4], b[4])\n",
    "    xB = tf.maximum(a[5], b[5])\n",
    "\n",
    "    interArea = tf.maximum(0, xB - xA) * tf.maximum(0, yB - yA) * tf.maximum(0, zB - zA)\n",
    "\n",
    "    boxAArea = (a[3] - a[0]) * (a[4] - a[1]) * (a[5] - a[2])\n",
    "    boxBArea = (b[3] - b[0]) * (b[4] - b[1]) * (b[5] - b[2])\n",
    "\n",
    "    return interArea / (boxAArea + boxBArea - interArea)\n",
    "\n",
    "\n",
    "def iou_evaluation(n, boxes, scores, highest_score_box, nms_threshold):\n",
    "    iou_value = iou(highest_score_box, boxes[n])\n",
    "    (boxes, scores) = tf.cond(\n",
    "        tf.greater(iou_value, nms_threshold),\n",
    "        lambda: (\n",
    "            tf.cast(tf.concat([boxes[:n], boxes[n:]], 0), tf.float32),\n",
    "            tf.cast(tf.concat([scores[:n], scores[n:]], 0), tf.float32)\n",
    "        ),\n",
    "        lambda: (tf.cast(boxes, tf.float32), tf.cast(scores, tf.float32))\n",
    "    )\n",
    "    return [tf.add(n, 1), boxes, scores, highest_score_box, nms_threshold]\n",
    "\n",
    "\n",
    "def nms_step(n, boxes, scores, sorted_args, nms_threshold, proposals):\n",
    "    highest_score_arg = sorted_args[0]\n",
    "    highest_score_box = boxes[highest_score_arg]\n",
    "    print(highest_score_box)\n",
    "    number_of_processed = tf.constant(0)\n",
    "    boxes_size = tf.shape(boxes)[0]\n",
    "    (n, boxes, scores, highest_score_box, nms_threshold) = tf.while_loop(\n",
    "        lambda n, b, s, h, t: n < boxes_size,\n",
    "        lambda n, b, s, h, t: iou_evaluation(n, b, s, h, t),\n",
    "        [\n",
    "            number_of_processed,\n",
    "            tf.concat([boxes[:highest_score_arg], boxes[highest_score_arg:]], 0),\n",
    "            tf.concat([scores[:highest_score_arg], scores[highest_score_arg:]], 0),\n",
    "            highest_score_box,\n",
    "            nms_threshold\n",
    "        ],\n",
    "        shape_invariants=[\n",
    "            number_of_processed.get_shape(),\n",
    "            tf.TensorShape([None, 6]),\n",
    "            tf.TensorShape([None]),\n",
    "            tf.TensorShape([None]),\n",
    "            nms_threshold.get_shape()\n",
    "        ]\n",
    "    )\n",
    "    return [tf.add(n, 1), boxes, scores, sorted_args, nms_threshold]\n",
    "\n",
    "\n",
    "def nms(boxes, scores, proposal_count=4, nms_threshold=0.5):\n",
    "    print(boxes)\n",
    "    print(scores)\n",
    "    print(proposal_count)\n",
    "    print(nms_threshold)\n",
    "\n",
    "    number_of_processed = tf.constant(0)\n",
    "    boxes_size = tf.shape(boxes)[0]\n",
    "    sorted_args = tf.argsort(scores, direction='DESCENDING')\n",
    "    nms_threshold = tf.constant(nms_threshold, dtype=tf.float64)\n",
    "\n",
    "    proposals = tf.constant([])\n",
    "\n",
    "    result = tf.while_loop(\n",
    "        lambda n, b, s, sa, t, p: n < boxes_size,\n",
    "        lambda n, b, s, sa, t, p: nms_step(n, b, s, sa, t, p),\n",
    "        [number_of_processed, boxes, scores, sorted_args, nms_threshold, proposals],\n",
    "        shape_invariants=[\n",
    "            number_of_processed.get_shape(),\n",
    "            tf.TensorShape([None, 6]),\n",
    "            tf.TensorShape([None]),\n",
    "            tf.TensorShape([None]),\n",
    "            nms_threshold.get_shape(),\n",
    "            tf.TensorShape([None, None])\n",
    "        ]\n",
    "    )\n",
    "\n",
    "nms(boxes, scores)\n"
   ],
   "metadata": {
    "collapsed": false,
    "pycharm": {
     "name": "#%%\n"
    }
   }
  },
  {
   "cell_type": "code",
   "execution_count": null,
   "outputs": [],
   "source": [],
   "metadata": {
    "collapsed": false,
    "pycharm": {
     "name": "#%%\n"
    }
   }
  },
  {
   "cell_type": "code",
   "execution_count": null,
   "outputs": [],
   "source": [],
   "metadata": {
    "collapsed": false,
    "pycharm": {
     "name": "#%%\n"
    }
   }
  }
 ],
 "metadata": {
  "kernelspec": {
   "name": "pycharm-656268ef",
   "language": "python",
   "display_name": "PyCharm (tensorflow-3d-nms)"
  },
  "language_info": {
   "codemirror_mode": {
    "name": "ipython",
    "version": 2
   },
   "file_extension": ".py",
   "mimetype": "text/x-python",
   "name": "python",
   "nbconvert_exporter": "python",
   "pygments_lexer": "ipython2",
   "version": "2.7.6"
  }
 },
 "nbformat": 4,
 "nbformat_minor": 0
}